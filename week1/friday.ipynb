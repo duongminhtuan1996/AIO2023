{
 "cells": [
  {
   "cell_type": "markdown",
   "metadata": {},
   "source": [
    "# 1. For_loop"
   ]
  },
  {
   "cell_type": "code",
   "execution_count": 1,
   "metadata": {},
   "outputs": [
    {
     "name": "stdout",
     "output_type": "stream",
     "text": [
      "0\n",
      "1\n",
      "2\n",
      "3\n",
      "4\n"
     ]
    }
   ],
   "source": [
    "r = range(5)\n",
    "for i in r:\n",
    "    print(i)"
   ]
  },
  {
   "cell_type": "code",
   "execution_count": 2,
   "metadata": {},
   "outputs": [
    {
     "name": "stdout",
     "output_type": "stream",
     "text": [
      "Hello AI VIETNAM\n",
      "i value currently:  0\n",
      "Hello AI VIETNAM\n",
      "i value currently:  1\n",
      "Hello AI VIETNAM\n",
      "i value currently:  2\n",
      "Hello AI VIETNAM\n",
      "i value currently:  3\n",
      "Hello AI VIETNAM\n",
      "i value currently:  4\n"
     ]
    }
   ],
   "source": [
    "#dùng hàm range để tạo một iterable có giá trị 0, 1, 2, 3, 4\n",
    "\n",
    "for i in range(5):\n",
    "    print('Hello AI VIETNAM')\n",
    "\n",
    "    #We use i value in each loops\n",
    "    print('i value currently: ', i)"
   ]
  },
  {
   "cell_type": "code",
   "execution_count": 3,
   "metadata": {},
   "outputs": [
    {
     "name": "stdout",
     "output_type": "stream",
     "text": [
      "Total flips: 1000\n",
      "num_tails: 476\n",
      "num_heads 524\n"
     ]
    }
   ],
   "source": [
    "import random\n",
    "\n",
    "#Total number of coin flips\n",
    "total_flips = 0\n",
    "\n",
    "#Number of times the back appears\n",
    "num_tails = 0\n",
    "\n",
    "#Number of time the head appears\n",
    "num_heads = 0\n",
    "\n",
    "for _ in range(1000):\n",
    "    #genarate random number in range[0,1]\n",
    "    n = random.random()\n",
    "    if n < 0.5:\n",
    "        num_tails += 1\n",
    "    else:\n",
    "        num_heads += 1\n",
    "    total_flips += 1\n",
    "\n",
    "print('Total flips: %d' % total_flips)\n",
    "print('num_tails: %d' % num_tails)\n",
    "print('num_heads %d' % num_heads)"
   ]
  },
  {
   "cell_type": "code",
   "execution_count": 4,
   "metadata": {},
   "outputs": [
    {
     "data": {
      "text/plain": [
       "120"
      ]
     },
     "execution_count": 4,
     "metadata": {},
     "output_type": "execute_result"
    }
   ],
   "source": [
    "#Calculate factorial\n",
    "def factorial(n):\n",
    "    result = 1\n",
    "    if n == 1:\n",
    "        return result\n",
    "    for i in range(2, n+1):\n",
    "        result *= i\n",
    "    \n",
    "    return result\n",
    "factorial(5)"
   ]
  },
  {
   "cell_type": "code",
   "execution_count": 7,
   "metadata": {},
   "outputs": [
    {
     "name": "stdout",
     "output_type": "stream",
     "text": [
      "2.7182815255731922\n"
     ]
    }
   ],
   "source": [
    "#Numerical estimation function e\n",
    "def estimate_e(n):\n",
    "    result = 1\n",
    "\n",
    "    for i in range(1, n+1):\n",
    "        result = result + 1/factorial(i)\n",
    "\n",
    "    return result\n",
    "\n",
    "#Estimate e with n = 10\n",
    "print(estimate_e(9))"
   ]
  },
  {
   "cell_type": "code",
   "execution_count": 8,
   "metadata": {},
   "outputs": [
    {
     "name": "stdout",
     "output_type": "stream",
     "text": [
      "4.5\n",
      "3.25\n",
      "3.0096153846153846\n",
      "3.000015360039322\n",
      "3.0000000000393214\n",
      "3.0\n",
      "3.0\n"
     ]
    }
   ],
   "source": [
    "def compute_square_root(N, num_loops):\n",
    "    \"\"\"\n",
    "    This function aims to compute square root for the number N\n",
    "    N -- the number needs to take the square root\n",
    "    num_loops -- number of loops used for this optimization\n",
    "    \"\"\"\n",
    "\n",
    "    x_n = N/2.0\n",
    "    print(x_n)\n",
    "\n",
    "    for i in range(num_loops):\n",
    "        x_npl = (x_n + N/x_n) / 2.0\n",
    "        x_n = x_npl\n",
    "        print(x_npl)\n",
    "\n",
    "    return x_npl\n",
    "\n",
    "print(compute_square_root(N=9, num_loops=5))\n"
   ]
  },
  {
   "cell_type": "markdown",
   "metadata": {},
   "source": [
    "# 2. PI_estimation"
   ]
  },
  {
   "cell_type": "code",
   "execution_count": 9,
   "metadata": {},
   "outputs": [
    {
     "name": "stdout",
     "output_type": "stream",
     "text": [
      "Estimated PI is  3.1414926535900345\n"
     ]
    }
   ],
   "source": [
    "#Gregory-Leibniz Series\n",
    "n = 10000\n",
    "PI = 0\n",
    "for i in range(1, n+1):\n",
    "    PI = PI + (-1)**(i+1)/(2*i - 1)\n",
    "\n",
    "PI = PI*4\n",
    "\n",
    "print('Estimated PI is ', PI)"
   ]
  },
  {
   "cell_type": "code",
   "execution_count": 10,
   "metadata": {},
   "outputs": [
    {
     "name": "stdout",
     "output_type": "stream",
     "text": [
      "Estimated PI is  3.1414067184965018\n"
     ]
    }
   ],
   "source": [
    "#Nilakantha Series\n",
    "\n",
    "n=10\n",
    "PI = 0\n",
    "for i in range(n):\n",
    "    PI = PI + (-1)**(i) / ((2*i+2)*(2*i+3)*(2*i+4))\n",
    "\n",
    "PI = 3 + 4*PI\n",
    "print('Estimated PI is ', PI)"
   ]
  },
  {
   "cell_type": "code",
   "execution_count": 11,
   "metadata": {},
   "outputs": [
    {
     "name": "stdout",
     "output_type": "stream",
     "text": [
      "3.14236\n"
     ]
    }
   ],
   "source": [
    "import random\n",
    "import math\n",
    "\n",
    "#The number of points belongs to the circle\n",
    "N_T = 0\n",
    "N = 100000\n",
    "\n",
    "#Genarate N random points\n",
    "for i in range(N):\n",
    "    #genarate x, y belongs [-1, 1]\n",
    "    x = random.random()*2 - 1\n",
    "    y = random.random()*2 - 1\n",
    "\n",
    "    x2 = x**2\n",
    "    y2 = y**2\n",
    "\n",
    "    #Check if p is inside the circle\n",
    "    if math.sqrt(x2 + y2) <= 1.0:\n",
    "        N_T = N_T + 1\n",
    "\n",
    "#Calculate PI\n",
    "pi = (N_T/N) * 4\n",
    "print(pi)"
   ]
  },
  {
   "cell_type": "markdown",
   "metadata": {},
   "source": [
    "# 3. While Loop"
   ]
  },
  {
   "cell_type": "code",
   "execution_count": 12,
   "metadata": {},
   "outputs": [
    {
     "name": "stdout",
     "output_type": "stream",
     "text": [
      "Giá trị của i hiện tại:  0\n",
      "Giá trị của i hiện tại:  1\n",
      "Giá trị của i hiện tại:  2\n",
      "Giá trị của i hiện tại:  3\n",
      "Giá trị của i hiện tại:  4\n",
      "Giá trị của i hiện tại:  5\n",
      "Giá trị của i hiện tại:  6\n",
      "Giá trị của i hiện tại:  7\n",
      "Giá trị của i hiện tại:  8\n",
      "Giá trị của i hiện tại:  9\n"
     ]
    }
   ],
   "source": [
    "n = 10\n",
    "i = 0\n",
    "\n",
    "while i<n:\n",
    "    print('Giá trị của i hiện tại: ', i)\n",
    "    i += 1"
   ]
  },
  {
   "cell_type": "code",
   "execution_count": 14,
   "metadata": {},
   "outputs": [
    {
     "name": "stdout",
     "output_type": "stream",
     "text": [
      "Số sinh ra có giá trị là  10\n",
      "Số sinh ra có giá trị là  4\n",
      "Số sinh ra có giá trị là  10\n",
      "Số sinh ra có giá trị là  8\n",
      "Số sinh ra có giá trị là  10\n",
      "Số sinh ra có giá trị là  9\n",
      "Số sinh ra có giá trị là  7\n",
      "Số sinh ra có giá trị là  5\n",
      "Exited while\n"
     ]
    }
   ],
   "source": [
    "import random\n",
    "\n",
    "#The loop runs endlessly\n",
    "while True:\n",
    "    num = random.randint(1, 10)\n",
    "    print('Số sinh ra có giá trị là ', num)\n",
    "\n",
    "    #Check if num is equal to 5 or not\n",
    "    if num == 5:\n",
    "        break\n",
    "\n",
    "print('Exited while')"
   ]
  },
  {
   "cell_type": "markdown",
   "metadata": {},
   "source": [
    "# 4. String"
   ]
  },
  {
   "cell_type": "code",
   "execution_count": 15,
   "metadata": {},
   "outputs": [
    {
     "name": "stdout",
     "output_type": "stream",
     "text": [
      "Hello AI VIETNAM. Have a nice day!\n",
      "***Hi AI VIETNAM***\n"
     ]
    }
   ],
   "source": [
    "value1 = \"AI VIETNAM\"\n",
    "print('Hello %s. Have a nice day!' % value1)\n",
    "\n",
    "value2 = 'Hi'\n",
    "print('***%s %s***' %(value2, value1))"
   ]
  },
  {
   "cell_type": "code",
   "execution_count": 16,
   "metadata": {},
   "outputs": [
    {
     "name": "stdout",
     "output_type": "stream",
     "text": [
      "Hello, AIVIETNAM\n",
      "Hello, AIVIETNAM\n"
     ]
    }
   ],
   "source": [
    "value1 = 'Hello'\n",
    "value2 = 'AIVIETNAM'\n",
    "s1 = '{n1}, {n2}'.format(n1=value1, n2=value2)\n",
    "s2 = '{n1}, {n2}'.format(n2=value2, n1=value1)\n",
    "\n",
    "print(s1)\n",
    "print(s2)"
   ]
  },
  {
   "cell_type": "code",
   "execution_count": 18,
   "metadata": {},
   "outputs": [
    {
     "name": "stdout",
     "output_type": "stream",
     "text": [
      "Hello John. Are you 21 years old?\n"
     ]
    }
   ],
   "source": [
    "name = 'John'\n",
    "age = 21\n",
    "print(f'Hello {name}. Are you {age} years old?')"
   ]
  },
  {
   "cell_type": "code",
   "execution_count": 20,
   "metadata": {},
   "outputs": [
    {
     "name": "stdout",
     "output_type": "stream",
     "text": [
      "Tôi thíchAI!\n",
      "Tôi thíchAI!Tôi thíchAI!\n"
     ]
    }
   ],
   "source": [
    "s1 = 'Tôi thích'\n",
    "s2 = 'AI!'\n",
    "\n",
    "s3 = s1 + s2\n",
    "s4 = s3 * 2\n",
    "\n",
    "print(s3)\n",
    "print(s4)"
   ]
  },
  {
   "cell_type": "code",
   "execution_count": 21,
   "metadata": {},
   "outputs": [
    {
     "name": "stdout",
     "output_type": "stream",
     "text": [
      "True\n",
      "False\n",
      "True\n",
      "True\n",
      "False\n"
     ]
    }
   ],
   "source": [
    "s1 = 'a'\n",
    "s2 = 'b'\n",
    "\n",
    "print(s1 == s1)\n",
    "print(s1 == s2)\n",
    "\n",
    "print(s1 != s2)\n",
    "print(s1 < s2)\n",
    "print(s1 > s2)"
   ]
  },
  {
   "cell_type": "code",
   "execution_count": 22,
   "metadata": {},
   "outputs": [
    {
     "name": "stdout",
     "output_type": "stream",
     "text": [
      "True\n",
      "False\n"
     ]
    }
   ],
   "source": [
    "print('10'.isdigit())\n",
    "print('abc'.isdigit())"
   ]
  },
  {
   "cell_type": "code",
   "execution_count": 23,
   "metadata": {},
   "outputs": [
    {
     "name": "stdout",
     "output_type": "stream",
     "text": [
      "False\n",
      "True\n"
     ]
    }
   ],
   "source": [
    "print('10'.isalpha())\n",
    "print('abc'.isalpha())"
   ]
  },
  {
   "cell_type": "code",
   "execution_count": 24,
   "metadata": {},
   "outputs": [
    {
     "name": "stdout",
     "output_type": "stream",
     "text": [
      "False\n",
      "True\n"
     ]
    }
   ],
   "source": [
    "print('Ab'.isupper())\n",
    "print('AB'.isupper())"
   ]
  },
  {
   "cell_type": "code",
   "execution_count": 25,
   "metadata": {},
   "outputs": [
    {
     "name": "stdout",
     "output_type": "stream",
     "text": [
      "True\n",
      "False\n"
     ]
    }
   ],
   "source": [
    "print('ab'.islower())\n",
    "print('Ab'.islower())"
   ]
  },
  {
   "cell_type": "code",
   "execution_count": 26,
   "metadata": {},
   "outputs": [
    {
     "name": "stdout",
     "output_type": "stream",
     "text": [
      "2\n",
      "0\n",
      "11\n"
     ]
    }
   ],
   "source": [
    "s = 'AI VIET NAM'\n",
    "print(s.count('A'))\n",
    "print(s.count('a'))\n",
    "print(len(s))"
   ]
  },
  {
   "cell_type": "code",
   "execution_count": 27,
   "metadata": {},
   "outputs": [
    {
     "name": "stdout",
     "output_type": "stream",
     "text": [
      "765\n"
     ]
    }
   ],
   "source": [
    "import random\n",
    "import math\n",
    "\n",
    "num_point_in_circle = 0\n",
    "\n",
    "for _ in range(1000):\n",
    "    #generate n belong [0, 1]\n",
    "    x = random.random()\n",
    "    y = random.random()\n",
    "\n",
    "    distance = math.sqrt(x**2 + y**2)\n",
    "    if distance <= 1.0:\n",
    "        num_point_in_circle += 1\n",
    "\n",
    "\n",
    "print(num_point_in_circle)"
   ]
  },
  {
   "cell_type": "code",
   "execution_count": null,
   "metadata": {},
   "outputs": [],
   "source": []
  }
 ],
 "metadata": {
  "kernelspec": {
   "display_name": "base",
   "language": "python",
   "name": "python3"
  },
  "language_info": {
   "codemirror_mode": {
    "name": "ipython",
    "version": 3
   },
   "file_extension": ".py",
   "mimetype": "text/x-python",
   "name": "python",
   "nbconvert_exporter": "python",
   "pygments_lexer": "ipython3",
   "version": "3.9.12"
  }
 },
 "nbformat": 4,
 "nbformat_minor": 2
}
