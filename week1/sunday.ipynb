{
 "cells": [
  {
   "cell_type": "markdown",
   "metadata": {},
   "source": [
    "1. <b>Viết 4 function thực hiện tính thể tích của các khối sau.</b><br>\n",
    "- Hình lập phương $V = s^3$ (s là độ dài cảnh)\n",
    "    - input function: s\n",
    "    - output function: V\n",
    "- Hình hộp chữ nhật $V = l*w*h$ (l là chiều dài, w là chiều rộng, h là chiều cao)\n",
    "    - input function: l, w, h\n",
    "    - output function: V\n",
    "- Hình trụ tròn $V = \\pi*r^2*h$ (r là bán kính, h là chiều cao)\n",
    "    - input function: r, h\n",
    "    - output function: V\n",
    "- Hình cầu $V = \\frac{4}{3} * \\pi * r^3$ (r là bán kính hình cầu)\n",
    "    - input function: r\n",
    "    - output function: V"
   ]
  },
  {
   "cell_type": "code",
   "execution_count": 2,
   "metadata": {},
   "outputs": [],
   "source": [
    "def calc_cube_volume(s=3):\n",
    "    return s**3\n",
    "\n",
    "def calc_rectangular_prism_volume(l=1, w=2, h=3):\n",
    "    return l*w*h\n",
    "\n",
    "def calc_cylindar_volume(r=1.2, h=4):\n",
    "    return r**2 * 3.1416 * h\n",
    "\n",
    "def calc_shpere_volume(r=1.2, h=4):\n",
    "    return 4/3 * r**3 * 3.1416"
   ]
  },
  {
   "cell_type": "code",
   "execution_count": 3,
   "metadata": {},
   "outputs": [
    {
     "name": "stdout",
     "output_type": "stream",
     "text": [
      "27\n",
      "6\n",
      "18.095616\n",
      "11.717333333333332\n"
     ]
    }
   ],
   "source": [
    "print(calc_cube_volume(3))\n",
    "print(calc_rectangular_prism_volume(1, 2, 3))\n",
    "print(calc_cylindar_volume(1.2, 4))\n",
    "print(calc_shpere_volume(1.3))"
   ]
  },
  {
   "cell_type": "code",
   "execution_count": 4,
   "metadata": {},
   "outputs": [],
   "source": [
    "import matplotlib.pyplot as plt\n",
    "import numpy as np"
   ]
  },
  {
   "cell_type": "code",
   "execution_count": 12,
   "metadata": {},
   "outputs": [],
   "source": [
    "arr = np.linspace(-15, 15, 100)\n",
    "def binary(x):\n",
    "    if x < 0:\n",
    "        return 0\n",
    "    return 1"
   ]
  },
  {
   "cell_type": "code",
   "execution_count": 22,
   "metadata": {},
   "outputs": [
    {
     "name": "stdout",
     "output_type": "stream",
     "text": [
      "<class 'numpy.ndarray'>\n"
     ]
    }
   ],
   "source": [
    "# vfunc = np.vectorize(binary)\n",
    "#result = vfunc(arr)\n",
    "result = [binary(x) for x in arr]\n",
    "result = np.array(result)"
   ]
  },
  {
   "cell_type": "code",
   "execution_count": 23,
   "metadata": {},
   "outputs": [
    {
     "data": {
      "image/png": "[encoded data removed]",
      "text/plain": [
       "<Figure size 432x288 with 1 Axes>"
      ]
     },
     "metadata": {
      "needs_background": "light"
     },
     "output_type": "display_data"
    }
   ],
   "source": [
    "plt.plot(arr, result)\n",
    "plt.show()"
   ]
  },
  {
   "cell_type": "code",
   "execution_count": 24,
   "metadata": {},
   "outputs": [],
   "source": [
    "def num_fib(n):\n",
    "    if n < 0:\n",
    "        return False\n",
    "    elif n == 0:\n",
    "        return 0\n",
    "    elif n == 1 or n == 2:\n",
    "        return 1\n",
    "    return num_fib(n-1) + num_fib(n-2)"
   ]
  },
  {
   "cell_type": "code",
   "execution_count": 34,
   "metadata": {},
   "outputs": [
    {
     "data": {
      "text/plain": [
       "'12345'"
      ]
     },
     "execution_count": 34,
     "metadata": {},
     "output_type": "execute_result"
    }
   ],
   "source": [
    "\"\".join(x for x in ('12345'))"
   ]
  },
  {
   "cell_type": "markdown",
   "metadata": {},
   "source": [
    "2. \n",
    "Viết function thực hiện đánh giá classification model bằng F1-Score. \n",
    "- $Precision = \\frac{TP}{TP + FP}$\n",
    "- $Recall = \\frac{TP}{TP + FN}$\n",
    "- $F_1{score} = 2*\\frac{Precision*Recall}{Precision + Recall}$\n",
    "\n",
    "- Input: function nhận 3 giá trị **tp, fp, fn**\n",
    "\n",
    "- Output: print ra kết quả của **Precision, Recall, và F1-score**\n",
    "\n",
    "\n",
    "**NOTE: Đề bài yêu cầu các điều kiện sau**\n",
    "    \n",
    "- Phải **kiểm tra giá trị nhận vào tp, fp, fn là type int**, nếu là type khác thì print ví dụ check fn là float, print **'fn must be int'** và thoát hàm hoặc dừng chương trình.\n",
    "- Yêu cầu **tp, fp, fn phải đều lớn hơn 0**, nếu không thì print **'tp and fp and fn must be greater than zero'** và thoát hàm hoặc dừng chương trình "
   ]
  },
  {
   "cell_type": "code",
   "execution_count": 13,
   "metadata": {},
   "outputs": [],
   "source": [
    "import math\n",
    "def calc_f1_score(tp, fp, fn):\n",
    "    if (isinstance(tp, int) == False) or (isinstance(fp, int) == False) or (isinstance(fn, int) == False):\n",
    "        return 'tp, fp, fn must be int'\n",
    "    elif ((tp<=0) or (fp<=0) or (fn <= 0)):\n",
    "        return 'tp, fp, fn must be greater than zero'\n",
    "        \n",
    "    prec = tp/(tp+fp)\n",
    "    recall = tp/(tp+fn)\n",
    "    f1 = 2 * ((prec*recall)/(prec+recall))\n",
    "    return prec, recall, f1"
   ]
  },
  {
   "cell_type": "code",
   "execution_count": 14,
   "metadata": {},
   "outputs": [
    {
     "data": {
      "text/plain": [
       "(0.4, 0.3333333333333333, 0.3636363636363636)"
      ]
     },
     "execution_count": 14,
     "metadata": {},
     "output_type": "execute_result"
    }
   ],
   "source": [
    "calc_f1_score(2, 3, 4)"
   ]
  },
  {
   "cell_type": "code",
   "execution_count": 15,
   "metadata": {},
   "outputs": [
    {
     "data": {
      "text/plain": [
       "'tp, fp, fn must be greater than zero'"
      ]
     },
     "execution_count": 15,
     "metadata": {},
     "output_type": "execute_result"
    }
   ],
   "source": [
    "calc_f1_score(0, 3, 4)"
   ]
  },
  {
   "cell_type": "markdown",
   "metadata": {},
   "source": [
    "3. Viết function mô phỏng theo 3 activation function\n",
    "- Binary step Function \n",
    "$f(x) \\begin{cases}\n",
    "        0 &\\text{if x} < 0 \\\\\n",
    "        1 &\\text{if x }\\geq 0\n",
    "        \\end{cases}$\n",
    "- Sigmoid Function $f(x) = \\frac{1}{1 + e^{-x}}$\n",
    "- Elu Function \n",
    "$f(x) \\begin{cases}\n",
    "        \\alpha(e^x-1) &\\text{if x} < 0 \\\\\n",
    "        x &\\text{if x }\\geq 0\n",
    "        \\end{cases}$"
   ]
  },
  {
   "cell_type": "markdown",
   "metadata": {},
   "source": [
    "![image.png](data:image/png;base64,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)"
   ]
  },
  {
   "cell_type": "markdown",
   "metadata": {},
   "source": [
    "- Input: \n",
    "    - Người dùng nhập giá trị **x**\n",
    "    - Người dùng nhập tên **activation function chỉ có 3 loại (binary, sigmoid, elu)**\n",
    "- Output: Kết quả **f(x)** (x khi đi qua actiavtion fucntion tương ứng theo activation function name). Ví dụ **nhập x=3, activation_function = 'binary'. Output: print 'binary: f(3)=1'**\n",
    "\n",
    "**NOTE: Lưu ý các điều kiện sau:**\n",
    "- Dùng function **is_number** được cung cấp sẵn để **kiểm tra x có hợp lệ hay không** (vd: x='10', is_number(x) sẽ trả về True ngược lại là False). Nếu **không hợp lệ print 'x must be a number' và dừng chương trình.**\n",
    "- Kiểm tra **activation function name có hợp lệ hay không nằm trong 3 tên (binary, sigmoid, elu)**. **Nếu không print 'ten_function_user is not supported'** (vd người dùng nhập 'relu' thì print 'relu is not supportted')\n",
    "- Convert **x** sang **float** type\n",
    "- Thực hiện với theo công thức với activation name tương ứng. Print ra kết quả\n",
    "- Dùng math.e để lấy số e\n",
    "- $\\alpha$ = 0.01"
   ]
  },
  {
   "cell_type": "code",
   "execution_count": 31,
   "metadata": {},
   "outputs": [],
   "source": [
    "def is_number(n):\n",
    "    try:\n",
    "        float(n)\n",
    "    except ValueError:\n",
    "        return False\n",
    "    return True"
   ]
  },
  {
   "cell_type": "code",
   "execution_count": 64,
   "metadata": {},
   "outputs": [],
   "source": [
    "def calc_bin(x):\n",
    "    return np.where(x>=0, 1, 0)\n",
    "def calc_sig(x):\n",
    "    return 1/(1+np.exp(-x))\n",
    "\n",
    "def calc_elu(x):\n",
    "    alpha = 0.01\n",
    "    return np.where(x>0, x, alpha*(np.exp(x)-1))"
   ]
  },
  {
   "cell_type": "code",
   "execution_count": 59,
   "metadata": {},
   "outputs": [],
   "source": [
    "def caclc_activation_func(x, act_name):\n",
    "    if act_name == 'binary':\n",
    "        return calc_bin(x)\n",
    "    elif act_name == 'sigmoid':\n",
    "        return calc_sig(x)\n",
    "    elif act_name == 'elu':\n",
    "        return calc_elu(x)\n",
    "    else:\n",
    "        return 'Wrong activation can you input again'"
   ]
  },
  {
   "cell_type": "code",
   "execution_count": 60,
   "metadata": {},
   "outputs": [
    {
     "data": {
      "text/plain": [
       "0.95"
      ]
     },
     "execution_count": 60,
     "metadata": {},
     "output_type": "execute_result"
    }
   ],
   "source": [
    "round(caclc_activation_func(3 ,act_name='sigmoid'), 2)"
   ]
  },
  {
   "cell_type": "code",
   "execution_count": 32,
   "metadata": {},
   "outputs": [],
   "source": [
    "def exercise3():\n",
    "    x = input('input x = ')\n",
    "    if not is_number(x):\n",
    "        print('x must be a number')\n",
    "        return 0\n",
    "    \n",
    "    act_name = input('input activation function (binary|sigmoid|elu): ')\n",
    "    x = float(x)\n",
    "    result = caclc_activation_func(x, act_name)\n",
    "    if result is None:\n",
    "        print(f'{act_name} is not supportted')\n",
    "    else:\n",
    "        print(f'{act_name}: f({x}) = {result}')"
   ]
  },
  {
   "cell_type": "code",
   "execution_count": 33,
   "metadata": {},
   "outputs": [
    {
     "name": "stdout",
     "output_type": "stream",
     "text": [
      "binary: f(3.0) = 1\n"
     ]
    }
   ],
   "source": [
    "exercise3()"
   ]
  },
  {
   "cell_type": "code",
   "execution_count": 35,
   "metadata": {},
   "outputs": [],
   "source": [
    "import numpy as np\n",
    "import matplotlib.pyplot as plt"
   ]
  },
  {
   "cell_type": "code",
   "execution_count": 65,
   "metadata": {},
   "outputs": [
    {
     "data": {
      "image/png": "[encoded data removed]",
      "text/plain": [
       "<Figure size 720x432 with 3 Axes>"
      ]
     },
     "metadata": {
      "needs_background": "light"
     },
     "output_type": "display_data"
    }
   ],
   "source": [
    "x_binary = np.linspace(-15, 15, 400)\n",
    "x_sigmoid = np.linspace(-5, 5, 400)\n",
    "x_elu = np.linspace(-5, 5, 400)\n",
    "\n",
    "result_1 = calc_bin(x_binary)\n",
    "result_2 = calc_sig(x_sigmoid)\n",
    "result_3 = calc_elu(x_elu)\n",
    "\n",
    "fig, ax = plt.subplots(2, 2, figsize=(10, 6))\n",
    "\n",
    "ax[0, 0].plot(x_sigmoid, result_1, label='binary', color='orange')\n",
    "ax[0, 0].legend()\n",
    "\n",
    "ax[1, 0].plot(arr, result_2, label='sigmoid', color='orange')\n",
    "ax[1, 0].legend()\n",
    "\n",
    "ax[0, 1].plot(x_elu, result_3, label='elu',  color='orange')\n",
    "ax[0, 1].legend()\n",
    "\n",
    "fig.delaxes(ax[1,1])\n",
    "\n",
    "plt.tight_layout()\n",
    "plt.show()"
   ]
  },
  {
   "cell_type": "markdown",
   "metadata": {},
   "source": [
    "4. **Viết function lựa chọn regression loss function để tính loss:**\n",
    "- $MAE = \\frac{1}{n}\\sum_{i=1}^n|y_i-\\hat{y_i}|$\n",
    "- $MSE = \\frac{1}{n}\\sum_{i=1}^n(y_i-\\hat{y_i})^2$\n",
    "- $RMSE = \\sqrt{MSE} = \\sqrt{\\frac{1}{n}\\sum_{i=1}^n(y_i-\\hat{y_i})^2}$"
   ]
  },
  {
   "cell_type": "code",
   "execution_count": 8,
   "metadata": {},
   "outputs": [],
   "source": [
    "import math\n",
    "import random"
   ]
  },
  {
   "cell_type": "code",
   "execution_count": 2,
   "metadata": {},
   "outputs": [],
   "source": [
    "def calc_mae(y, y_hat):\n",
    "    return abs(y-y_hat)\n",
    "\n",
    "y = 1\n",
    "y_hat = 6\n",
    "assert calc_mae(y, y_hat) == 5"
   ]
  },
  {
   "cell_type": "code",
   "execution_count": 4,
   "metadata": {},
   "outputs": [
    {
     "name": "stdout",
     "output_type": "stream",
     "text": [
      "7\n"
     ]
    }
   ],
   "source": [
    "y = 2\n",
    "y_hat = 9\n",
    "print(calc_mae(y, y_hat))"
   ]
  },
  {
   "cell_type": "code",
   "execution_count": 7,
   "metadata": {},
   "outputs": [],
   "source": [
    "def calc_mse(y, y_hat):\n",
    "    return (y-y_hat)**2\n",
    "\n",
    "y = 4\n",
    "y_hat = 2\n",
    "assert calc_mse(y, y_hat) == 4"
   ]
  },
  {
   "cell_type": "code",
   "execution_count": 9,
   "metadata": {},
   "outputs": [],
   "source": [
    "def exercise4():\n",
    "    num_samples = input('Input number of samples (integer number) which are generated')\n",
    "    if not num_samples.isnumeric():\n",
    "        print('number of samples must be an integer number')\n",
    "        return\n",
    "    loss_name = input('Input loss name')\n",
    "\n",
    "    final_loss = 0\n",
    "    num_samples = int(num_samples)\n",
    "    for i in range(num_samples):\n",
    "        pred_sample = random.uniform(0, 10)\n",
    "        target_sample = random.uniform(0, 10)\n",
    "\n",
    "        if loss_name == \"MAE\":\n",
    "            loss = calc_mae(target_sample, pred_sample)\n",
    "        elif loss_name == \"MSE\":\n",
    "            loss = calc_mse(target_sample, pred_sample)\n",
    "        final_loss += loss\n",
    "    \n",
    "    final_loss /= num_samples\n",
    "    if loss_name == \"RMSE\":\n",
    "        final_loss = math.sqrt(final_loss)\n",
    "    print('{0}: {1}'.format(loss_name, final_loss))"
   ]
  },
  {
   "cell_type": "code",
   "execution_count": 10,
   "metadata": {},
   "outputs": [
    {
     "name": "stdout",
     "output_type": "stream",
     "text": [
      "MAE: 4.021354705488509\n"
     ]
    }
   ],
   "source": [
    "exercise4()"
   ]
  },
  {
   "cell_type": "markdown",
   "metadata": {},
   "source": [
    "5. Viết Function thực hiện tam giác Pascal và dãy số Fibonaci<br>\n",
    "**Pascal's Triangle**\n",
    "- input: level là số lượng hàng\n",
    "- output: print ra kết quả từng hàng theo Pascal's Triangle<br>\n",
    "**Fibonaci sequence**\n",
    "- Input: length là độ dài của chuỗi Fibonaci\n",
    "- Output: print ra kết quả các element trong chuỗi fibonaci"
   ]
  },
  {
   "cell_type": "code",
   "execution_count": 46,
   "metadata": {},
   "outputs": [
    {
     "name": "stdout",
     "output_type": "stream",
     "text": [
      "1 \n",
      "1 1 \n",
      "1 2 1 \n",
      "1 3 3 1 \n",
      "1 4 6 4 1 \n"
     ]
    }
   ],
   "source": [
    "def pascal(k, n):\n",
    "    if k == 0 or k == n:\n",
    "        return 1\n",
    "    else:\n",
    "        return pascal(k-1, n-1) + pascal(k, n-1)\n",
    "\n",
    "\n",
    "n = int(input('Input level n: '))\n",
    "\n",
    "for i in range(n+1):\n",
    "    for k in range(i+1):\n",
    "        print(pascal(k, i), end=' ')\n",
    "    print()"
   ]
  },
  {
   "cell_type": "code",
   "execution_count": 42,
   "metadata": {},
   "outputs": [
    {
     "name": "stdout",
     "output_type": "stream",
     "text": [
      "1 \n",
      "1 1 \n",
      "1 2 1 \n",
      "1 3 3 1 \n",
      "1 4 6 4 1 \n"
     ]
    }
   ],
   "source": [
    "n = int(input(\"Enter the number of rows: \"))\n",
    "for i in range(0,n+1):\n",
    "    for k in range(0, i+1):\n",
    "        print(pascal(k, i), end=' ')\n",
    "    print()"
   ]
  },
  {
   "cell_type": "code",
   "execution_count": 50,
   "metadata": {},
   "outputs": [
    {
     "name": "stdout",
     "output_type": "stream",
     "text": [
      "1 1 2 3 5 8 13 21 34 55 "
     ]
    }
   ],
   "source": [
    "def fibonaci(n):\n",
    "    if n < 0:\n",
    "        return False\n",
    "    elif n == 0 or n == 1:\n",
    "        return 1\n",
    "    return fibonaci(n-1) + fibonaci(n-2)\n",
    "\n",
    "def fibonaci_seq(length):\n",
    "    for i in range(length):\n",
    "        print(fibonaci(i), end=' ')\n",
    "    \n",
    "fibonaci_seq(10)"
   ]
  },
  {
   "cell_type": "markdown",
   "metadata": {},
   "source": [
    "6. Viết 4 function để ước lượng hàm số sau.\n",
    "- Input: x(số muốn tính toán) và n (số lượng bậc muốn xấp xỉ)\n",
    "- Output: Kết quả ước lượng hàm tương ứng với x. Ví dụ hàm $\\cos(x=0)$ thì output = 1<br>\n",
    "**NOTE: Các bạn chú ý điều kiện sau**<br>\n",
    "$\\sin(x) \\approx \\sum_{n=0}^\\infty (-1)^n \\frac{x^{2n+1}}{(2n+1)!}=x-\\frac{x^3}{3!}+\\frac{x^5}{5!}-\\frac{x^7}{7!}+\\frac{x^9}{9!}-\\dots$"
   ]
  },
  {
   "cell_type": "code",
   "execution_count": 55,
   "metadata": {},
   "outputs": [],
   "source": [
    "def factorial(n):\n",
    "    result = 1\n",
    "    for i in range(1, n+1):\n",
    "        result *= i\n",
    "    return result"
   ]
  },
  {
   "cell_type": "code",
   "execution_count": 66,
   "metadata": {},
   "outputs": [],
   "source": [
    "def approx_sin(x, n):\n",
    "    sin = 0\n",
    "    for i in range(n+1):\n",
    "        sin += (-1)**i*(x**(2*i+1))/factorial(2*i+1)\n",
    "    return sin"
   ]
  },
  {
   "cell_type": "code",
   "execution_count": 67,
   "metadata": {},
   "outputs": [
    {
     "data": {
      "text/plain": [
       "0.0015926529267151343"
      ]
     },
     "execution_count": 67,
     "metadata": {},
     "output_type": "execute_result"
    }
   ],
   "source": [
    "approx_sin(3.14, 10)"
   ]
  },
  {
   "cell_type": "markdown",
   "metadata": {},
   "source": [
    "7. Cho một số nguyên dương n, viết phương trình đảo ngược thứ tự các vị trí trong số n. chí dùng while(hay for) và nhưng phép toán có bản như +, -, *, /, %, //...\n",
    "- Input: n là một dãy số nguyên dương\n",
    "- Output: Đảo ngược vị trí các số trong n. Ví dụ input: 12345678910, output:1987654321<br>\n",
    "**Note: Các bạn chú ý các điều kiện sau**\n",
    "- Khoong được ép kiểu sang tring\n",
    "- Chỉ sử dụng while hặc for loop "
   ]
  },
  {
   "cell_type": "code",
   "execution_count": 83,
   "metadata": {},
   "outputs": [
    {
     "name": "stdout",
     "output_type": "stream",
     "text": [
      "4321\n"
     ]
    }
   ],
   "source": [
    "n = int(input('Nhập số nguyên n: '))\n",
    "num = ''\n",
    "while n>0:\n",
    "    digit = n%10\n",
    "    num += str(digit)\n",
    "    n = n//10\n",
    "print(int(num))"
   ]
  },
  {
   "cell_type": "code",
   "execution_count": null,
   "metadata": {},
   "outputs": [],
   "source": [
    "def dao_nguoc_so(n):\n",
    "  \"\"\"\n",
    "  Hàm đảo ngược thứ tự các chữ số trong số nguyên dương n.\n",
    "\n",
    "  Sử dụng vòng lặp while và các phép toán cơ bản.\n",
    "\n",
    "  Args:\n",
    "      n: Số nguyên dương cần đảo ngược.\n",
    "\n",
    "  Returns:\n",
    "      Số nguyên dương sau khi đảo ngược.\n",
    "  \"\"\"\n",
    "  # Khởi tạo biến số đảo ngược ban đầu bằng 0\n",
    "  so_dao_nguoc = 0\n",
    "\n",
    "  # Lặp lại cho đến khi n bằng 0\n",
    "  while n > 0:\n",
    "    # Lấy chữ số hàng đơn vị của n\n",
    "    chu_so_hang_don_vi = n % 10\n",
    "\n",
    "    # Nhân số đảo ngược hiện tại với 10 (để dời vị trí)\n",
    "    # và cộng thêm chữ số hàng đơn vị\n",
    "    so_dao_nguoc = so_dao_nguoc * 10 + chu_so_hang_don_vi\n",
    "\n",
    "    # Chia n cho 10 để loại bỏ chữ số hàng đơn vị\n",
    "    n //= 10\n",
    "\n",
    "  # Trả về số nguyên dương sau khi đảo ngược\n",
    "  return so_dao_nguoc\n",
    "\n",
    "# Ví dụ sử dụng\n",
    "n = 12345678910\n",
    "so_dao_nguoc = dao_nguoc_so(n)\n",
    "print(\"Số đảo ngược:\", so_dao_nguoc)  # Output: 1987654321"
   ]
  }
 ],
 "metadata": {
  "kernelspec": {
   "display_name": "base",
   "language": "python",
   "name": "python3"
  },
  "language_info": {
   "codemirror_mode": {
    "name": "ipython",
    "version": 3
   },
   "file_extension": ".py",
   "mimetype": "text/x-python",
   "name": "python",
   "nbconvert_exporter": "python",
   "pygments_lexer": "ipython3",
   "version": "3.9.12"
  }
 },
 "nbformat": 4,
 "nbformat_minor": 2
}
