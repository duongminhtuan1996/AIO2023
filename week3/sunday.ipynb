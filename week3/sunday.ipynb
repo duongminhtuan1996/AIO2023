{
 "cells": [
  {
   "cell_type": "markdown",
   "metadata": {},
   "source": [
    "Câu 1: Chọn A. Composition"
   ]
  },
  {
   "cell_type": "markdown",
   "metadata": {},
   "source": [
    "Câu 2:"
   ]
  },
  {
   "cell_type": "code",
   "execution_count": 1,
   "metadata": {},
   "outputs": [
    {
     "name": "stdout",
     "output_type": "stream",
     "text": [
      "Indentity: 100, Location: Viet nam\n"
     ]
    }
   ],
   "source": [
    "class Manufacturer:\n",
    "    def __init__(self, identity:int, location:str):\n",
    "        self.__identity = identity\n",
    "        self.__location = location\n",
    "    \n",
    "    def describe(self):\n",
    "        print(f'Indentity: {self.__identity}, Location: {self.__location}')\n",
    "\n",
    "manu1 = Manufacturer(identity=100, location='Viet nam')\n",
    "manu1.describe()"
   ]
  },
  {
   "cell_type": "markdown",
   "metadata": {},
   "source": [
    "Câu 3:"
   ]
  },
  {
   "cell_type": "code",
   "execution_count": 2,
   "metadata": {},
   "outputs": [
    {
     "name": "stdout",
     "output_type": "stream",
     "text": [
      "Name: touchpad - Price: 3.3\n",
      "Indentity: 1111, Location: Viet Nam\n"
     ]
    }
   ],
   "source": [
    "class Device:\n",
    "    def __init__(self, name:str, price:float, identity:int, location:str):\n",
    "        self.__name = name\n",
    "        self.__price = price\n",
    "        self.manufacturer = Manufacturer(identity, location)\n",
    "    \n",
    "    def describe(self):\n",
    "        print(f'Name: {self.__name} - Price: {self.__price}')\n",
    "        self.manufacturer.describe()\n",
    "\n",
    "device1 = Device(name='touchpad', price=3.3, identity=1111, location=\"Viet Nam\")\n",
    "device1.describe()"
   ]
  },
  {
   "cell_type": "markdown",
   "metadata": {},
   "source": [
    "Câu 4:"
   ]
  },
  {
   "cell_type": "code",
   "execution_count": 6,
   "metadata": {},
   "outputs": [
    {
     "name": "stdout",
     "output_type": "stream",
     "text": [
      "Name: BPhone - Price: 1000\n",
      "Indentity: 100, Location: Viet Nam\n",
      "None\n"
     ]
    }
   ],
   "source": [
    "class Device:\n",
    "    def __init__(self, name:str, price:float, manu:Manufacturer):\n",
    "        self.__name = name\n",
    "        self.__price = price\n",
    "        self.__manu = manu\n",
    "    \n",
    "    def describe(self):\n",
    "        print(f'Name: {self.__name} - Price: {self.__price}')\n",
    "        print(self.__manu.describe())\n",
    "\n",
    "\n",
    "manu = Manufacturer(identity=100, location='Viet Nam')\n",
    "device = Device(name='BPhone', price=1000, manu=manu)\n",
    "device.describe()"
   ]
  },
  {
   "cell_type": "code",
   "execution_count": null,
   "metadata": {},
   "outputs": [],
   "source": []
  }
 ],
 "metadata": {
  "kernelspec": {
   "display_name": "base",
   "language": "python",
   "name": "python3"
  },
  "language_info": {
   "codemirror_mode": {
    "name": "ipython",
    "version": 3
   },
   "file_extension": ".py",
   "mimetype": "text/x-python",
   "name": "python",
   "nbconvert_exporter": "python",
   "pygments_lexer": "ipython3",
   "version": "2022.5.undefined"
  }
 },
 "nbformat": 4,
 "nbformat_minor": 2
}
