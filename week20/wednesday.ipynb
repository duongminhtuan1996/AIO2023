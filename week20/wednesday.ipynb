{
 "cells": [
  {
   "cell_type": "code",
   "execution_count": 21,
   "metadata": {},
   "outputs": [],
   "source": [
    "import numpy as np\n",
    "import pandas as pd\n",
    "from sklearn.tree import DecisionTreeClassifier"
   ]
  },
  {
   "cell_type": "code",
   "execution_count": 33,
   "metadata": {},
   "outputs": [],
   "source": [
    "#Helper functions\n",
    "def compute_error(y, y_pred, w_i):\n",
    "    \"\"\"\n",
    "    Calculate the error rate of a weak classifier m.Arguments:\n",
    "    y:actual target value\n",
    "    y_pred: predicted value by weak classifier\n",
    "    w_i: individual weights for each observation\n",
    "\n",
    "    Note that all arrays should be the same length\n",
    "    \"\"\"\n",
    "    return (sum(w_i * (np.not_equal(y, y_pred)).astype(int)))/sum(w_i)\n",
    "\n",
    "def compute_alpha(error):\n",
    "    \"\"\"\n",
    "    Calculate the weight of a weak classifier m in the majority vote of the final classifier. This is called \n",
    "    alpha in chapter 10.1 of the element of statistical learning. Arguments:\n",
    "    error: error rate from weak classifier m\n",
    "    \"\"\"\n",
    "    epsilon = 0.01\n",
    "    return np.log((1 - error + epsilon) / (error + epsilon))\n",
    "\n",
    "def update_weights_formular1(w_i, alpha, y, y_pred):\n",
    "    result = w_i * np.exp(-alpha * y * y_pred)\n",
    "    w_norm = result / np.sum(result)\n",
    "    return w_norm\n",
    "\n",
    "def update_weights_formular2(w_i, alpha, y, y_pred):\n",
    "    result = w_i * np.exp(alpha * (np.not_equal(y, y_pred)).astype(int))\n",
    "    w_norm = result / np.sum(result)\n",
    "    return w_norm\n",
    "\n",
    "\n",
    "#Define AdaBoost class\n",
    "class AIOAdaBoost:\n",
    "    def __init__(self):\n",
    "        #self.w_i = None\n",
    "        self.alphas = []\n",
    "        self.G_M = []\n",
    "        self.M = None\n",
    "        self.training_errors = []\n",
    "        self.prediction_errors = []\n",
    "\n",
    "    def fit(self, X, y, M=100):\n",
    "        \"\"\"\n",
    "        Fit model, Arguments:\n",
    "        X: independent variables\n",
    "        y: target model\n",
    "        M: number of boosting rounds. Default is 100\n",
    "        \n",
    "        \"\"\"\n",
    "        #Clear before calling\n",
    "        self.alphas = []\n",
    "        self.training_errors = []\n",
    "        self.M = M\n",
    "\n",
    "        #Iterate over M weak classifier\n",
    "        for m in range(0, M):\n",
    "            #Set weigths for current boosting iteration\n",
    "            if m == 0:\n",
    "                w_i = np.ones(len(y)) * 1 / len(y) #At m = 0, weights are all the same and equal to 1/N\n",
    "\n",
    "            else:\n",
    "                w_i = update_weights_formular2(w_i, alpha_m, y, y_pred)\n",
    "                #w_i = update_weights_formular1(w_i, alpha_m, y, y_pred)\n",
    "            # print(w_i)\n",
    "\n",
    "            # (a) Fit weak classifier and predict labels\n",
    "            G_m = DecisionTreeClassifier(max_depth=1) # Stump: Two terminal-node classification tree\n",
    "            G_m.fit(X, y, sample_weight=w_i)\n",
    "            y_pred = G_m.predict(X)\n",
    "            self.G_M.append(G_m) # Save to list of weak classifier\n",
    "\n",
    "            # (b) Compute error\n",
    "            error_m = compute_error(y, y_pred, w_i)\n",
    "            self.training_errors.append(error_m)\n",
    "            # print(error_m)\n",
    "\n",
    "            # (c) Compute alpha\n",
    "            alpha_m = compute_alpha(error_m)\n",
    "            self.alphas.append(alpha_m)\n",
    "            # print(alpha_m)\n",
    "\n",
    "        assert len(self.G_M) == len(self.alphas)\n",
    "\n",
    "    def predict(self, X):\n",
    "        \"\"\"\n",
    "        Predict using fitted model. Arguments:\n",
    "        X: independent variables\n",
    "        \"\"\"\n",
    "\n",
    "        #Initalise dataframe with weak predictions for each abservation\n",
    "        weak_preds = pd.DataFrame(index=range(len(X)), columns=range(self.M))\n",
    "\n",
    "        #Predict class label for each weak classifier, weighted by alpha_m \n",
    "        for m in range(self.M):\n",
    "            y_pred_m = self.G_M[m].predict(X) * self.alphas[m]\n",
    "            #weak_preds.iloc[:, m] = y_pred_m\n",
    "            weak_preds[weak_preds.columns[m]] = y_pred_m\n",
    "        \n",
    "        #Estimate final predictions\n",
    "        y_pred = (1 * np.sign(weak_preds.T.sum())).astype(int)\n",
    "\n",
    "        return y_pred\n",
    "    \n",
    "    def error_rates(self, X, y):\n",
    "        \"\"\"\n",
    "        Get the error rates of each weak classifier. Arguments:\n",
    "        X: independent variables\n",
    "        y: target variables associated to X\n",
    "        \"\"\"\n",
    "        self.prediction_errors = [] #clear before calling\n",
    "\n",
    "        #Predict class label for each weak classifier\n",
    "        for m in range(self.M):\n",
    "            y_pred_m = self.G_M[m].predict(X)\n",
    "            error_m = compute_error(y=y, y_pred=y_pred_m, w_i=np.ones(len(y)))\n",
    "            self.prediction_errors.append(error_m)\n",
    "             "
   ]
  },
  {
   "cell_type": "code",
   "execution_count": 23,
   "metadata": {},
   "outputs": [
    {
     "name": "stdout",
     "output_type": "stream",
     "text": [
      "[0.08139535 0.08139535 0.08139535 0.25581395 0.08139535 0.08139535\n",
      " 0.08139535 0.25581395]\n"
     ]
    }
   ],
   "source": [
    "result = [0.07, 0.07, 0.07, 0.22, 0.07, 0.07, 0.07, 0.22]\n",
    "w_norm = result / np.sum(result)\n",
    "print(w_norm)"
   ]
  },
  {
   "cell_type": "code",
   "execution_count": 24,
   "metadata": {},
   "outputs": [],
   "source": [
    "#import libraries\n",
    "import numpy as np\n",
    "import matplotlib.pyplot as plt\n",
    "import seaborn as sns\n",
    "import pandas as pd\n",
    "from sklearn.datasets import make_classification\n",
    "from sklearn.metrics import accuracy_score\n",
    "from sklearn.model_selection import train_test_split\n",
    "from sklearn.ensemble import AdaBoostClassifier"
   ]
  },
  {
   "cell_type": "code",
   "execution_count": 25,
   "metadata": {},
   "outputs": [],
   "source": [
    "X, y = make_classification(n_samples=1000, n_features=20, random_state=42)\n",
    "y = y*2 - 1 #Original AdaBoost uses {1, -1} as class labels\n",
    "\n",
    "#Train/test split\n",
    "X_train, X_test, y_train, y_test = train_test_split(X, y, test_size=0.2, random_state=42)\n"
   ]
  },
  {
   "cell_type": "code",
   "execution_count": 26,
   "metadata": {},
   "outputs": [],
   "source": [
    "df = pd.read_csv('spambase/spambase.data', header=None)\n",
    "\n",
    "names = pd.read_csv('spambase/spambase.names', sep=':', skiprows=range(0, 33), header=None)\n",
    "col_names = list(names[0])\n",
    "col_names.append('Spam')\n",
    "df.columns = col_names\n",
    "df.head()\n",
    "\n",
    "df['Spam'] = df['Spam']*2 - 1\n",
    "X_train, X_test, y_train, y_test = train_test_split(df.drop(columns='Spam').values, df['Spam'].values, test_size=0.2, random_state=2)\n"
   ]
  },
  {
   "cell_type": "code",
   "execution_count": 34,
   "metadata": {},
   "outputs": [
    {
     "name": "stdout",
     "output_type": "stream",
     "text": [
      "The accuracy_score of the model is: 0.9349\n"
     ]
    }
   ],
   "source": [
    "#Fit model\n",
    "ab = AIOAdaBoost()\n",
    "ab.fit(X_train, y_train, M=50)\n",
    "\n",
    "#Predict on test set\n",
    "y_pred = ab.predict(X_test)\n",
    "print(f'The accuracy_score of the model is: {round(accuracy_score(y_test, y_pred), 4)}')"
   ]
  },
  {
   "cell_type": "code",
   "execution_count": 35,
   "metadata": {},
   "outputs": [
    {
     "name": "stderr",
     "output_type": "stream",
     "text": [
      "c:\\Users\\Admin\\anaconda3\\lib\\site-packages\\sklearn\\ensemble\\_weight_boosting.py:519: FutureWarning: The SAMME.R algorithm (the default) is deprecated and will be removed in 1.6. Use the SAMME algorithm to circumvent this warning.\n",
      "  warnings.warn(\n"
     ]
    },
    {
     "name": "stdout",
     "output_type": "stream",
     "text": [
      "The accuracy score of the model is 0.9435\n"
     ]
    }
   ],
   "source": [
    "# Using the library Scikit_learn implementation of AdaBoost\n",
    "from sklearn.ensemble import AdaBoostClassifier\n",
    "ab_sk = AdaBoostClassifier(n_estimators=50)\n",
    "ab_sk.fit(X_train, y_train)\n",
    "y_pred_sk = ab_sk.predict(X_test)\n",
    "print(f'The accuracy score of the model is {round(accuracy_score(y_test, y_pred_sk), 4)}')"
   ]
  },
  {
   "cell_type": "code",
   "execution_count": 1,
   "metadata": {},
   "outputs": [],
   "source": [
    "import numpy as np\n",
    "from sklearn.tree import DecisionTreeRegressor"
   ]
  },
  {
   "cell_type": "code",
   "execution_count": 2,
   "metadata": {},
   "outputs": [],
   "source": [
    "class AIVNGradientBooster:\n",
    "\n",
    "    def __init__(self, max_depth=8, min_samples_split=5, min_samples_leaf=5, max_feature=3, lr=0.1, num_iter=50):\n",
    "        self.max_depth = max_depth\n",
    "        self.min_samples_split = min_samples_split\n",
    "        self.min_samples_leaf = min_samples_leaf\n",
    "        self.max_feature = max_feature\n",
    "        self.lr = lr\n",
    "        self.num_iter = num_iter\n",
    "        self.y_mean = 0\n",
    "\n",
    "    def __calculate_loss(self, y, y_pred):\n",
    "        loss = (1/len(y)) * 0.5 * np.sum(np.square(y-y_pred))\n",
    "        return loss\n",
    "    \n",
    "    def __take_gradient(self, y, y_pred):\n",
    "        #grad = -(y-y_pred) # cho du doan = pred - alpha*residual\n",
    "        grad = (y - y_pred) # cho du toan pred + alpha*residual\n",
    "        return grad\n",
    "    \n",
    "    def __create_base_model(self, X, y):\n",
    "        base = DecisionTreeRegressor(max_depth=self.max_depth,\n",
    "                                     min_samples_split=self.min_samples_split,\n",
    "                                     min_samples_leaf=self.min_samples_leaf,\n",
    "                                     max_features=self.max_feature)\n",
    "        base.fit(X, y)\n",
    "        return base\n",
    "    \n",
    "    def predict(self, models, y, X):\n",
    "        pred_0 = np.array([self.y_mean] * len(X))\n",
    "        pred = pred_0.reshape(len(pred_0), 1)\n",
    "\n",
    "        for i in range(len(models)):\n",
    "            temp = (models[i].predict(X)).reshape(len(X), 1)\n",
    "            # pred -= self.lr * temp # For predict = pred - alpha*residual\n",
    "            pred += self.lr * temp # For predict = pred + alpha*residual\n",
    "\n",
    "        return pred\n",
    "    \n",
    "    def train(self, X, y):\n",
    "        models = []\n",
    "        losses = []\n",
    "        self.y_mean = np.mean(y)\n",
    "        pred_0 = np.array([np.mean(y)] * len(y))\n",
    "        pred = pred_0.reshape(len(pred_0), 1)\n",
    "        #print('Pred_0', pred_0)\n",
    "\n",
    "        for epoch in range(self.num_iter):\n",
    "            loss = self.__calculate_loss(y, pred)\n",
    "            # print('Loss: epoch', epoch, '=', loss)\n",
    "            losses.append(loss)\n",
    "            grads = self.__take_gradient(y, pred)\n",
    "            # print('gradient ', grads)\n",
    "            base = self.__create_base_model(X, grads)\n",
    "            r = (base.predict(X)).reshape(len(X), 1)\n",
    "            # print('r', r)\n",
    "            # pred -= self.lr*r\n",
    "            pred += self.lr*r\n",
    "            models.append(base)\n",
    "\n",
    "        return models, losses, pred_0"
   ]
  },
  {
   "cell_type": "code",
   "execution_count": 4,
   "metadata": {},
   "outputs": [],
   "source": [
    "from sklearn.datasets import make_regression\n",
    "from sklearn.model_selection import train_test_split\n",
    "from sklearn.preprocessing import StandardScaler\n",
    "import seaborn as sns"
   ]
  },
  {
   "cell_type": "code",
   "execution_count": 8,
   "metadata": {},
   "outputs": [
    {
     "data": {
      "text/plain": [
       "[Text(0.5, 0, 'Epoch'), Text(0, 0.5, 'Loss'), Text(0.5, 1.0, 'Loss vs Epoch')]"
      ]
     },
     "execution_count": 8,
     "metadata": {},
     "output_type": "execute_result"
    },
    {
     "data": {
      "image/png": "[encoded data removed]",
      "text/plain": [
       "<Figure size 432x288 with 1 Axes>"
      ]
     },
     "metadata": {},
     "output_type": "display_data"
    }
   ],
   "source": [
    "X, y = make_regression(n_samples=15, n_features=1, random_state=42)\n",
    "X_train, X_test, y_train, y_test = train_test_split(X, y, test_size=0.30, random_state=100)\n",
    "\n",
    "scaler = StandardScaler()\n",
    "X_train = scaler.fit_transform(X_train)\n",
    "X_test = scaler.fit_transform(X_test)\n",
    "y_train = np.array(y_train).reshape(X_train.shape[0], 1)\n",
    "y_test = np.array(y_test).reshape(X_test.shape[0], 1)\n",
    "\n",
    "#Train\n",
    "G = AIVNGradientBooster()\n",
    "X_train = np.array([0, -1, 2, 3, 4, 5, 6, 7, 8, 9]).reshape(10, 1)\n",
    "y_train = np.array([0, -2, 4, 6, 8, 10, 12, 14, 16, 18]).reshape(10, 1)\n",
    "\n",
    "models, losses, pred_0 = G.train(X_train, y_train)\n",
    "\n",
    "sns.set_style('darkgrid')\n",
    "ax = sns.lineplot(x=range(50), y=losses)\n",
    "ax.set(xlabel='Epoch', ylabel='Loss', title='Loss vs Epoch')"
   ]
  },
  {
   "cell_type": "code",
   "execution_count": 9,
   "metadata": {},
   "outputs": [],
   "source": [
    "import pandas as pd\n",
    "import numpy as np\n",
    "from sklearn.preprocessing import StandardScaler\n",
    "from sklearn.model_selection import train_test_split\n",
    "from sklearn.tree import DecisionTreeRegressor\n",
    "import matplotlib.pyplot as plt\n",
    "from sklearn.metrics import mean_squared_error\n",
    "from sklearn.metrics import accuracy_score\n",
    "from sklearn.metrics import roc_auc_score"
   ]
  },
  {
   "cell_type": "code",
   "execution_count": 10,
   "metadata": {},
   "outputs": [],
   "source": [
    "#read data\n",
    "data = pd.read_csv('advertising.csv')\n",
    "data.fillna(0, inplace=True)\n",
    "\n",
    "#X, y\n",
    "X = data.iloc[:, :-1].values\n",
    "y = data.iloc[:, -1].values\n",
    "X_train, X_test, y_train, y_test = train_test_split(X, y, test_size=0.30, random_state=100)\n",
    "\n",
    "#scaling\n",
    "scaler = StandardScaler()\n",
    "X_train = scaler.fit_transform(X_train)\n",
    "X_test = scaler.fit_transform(X_test)\n",
    "y_train = np.array(y_train).reshape(X_train.shape[0], 1)\n",
    "y_test = np.array(y_test).reshape(X_test.shape[0], 1)\n",
    "\n",
    "#Train\n",
    "G = AIVNGradientBooster()\n",
    "models, losses, pred_0 = G.train(X_train, y_train)"
   ]
  },
  {
   "cell_type": "code",
   "execution_count": 11,
   "metadata": {},
   "outputs": [
    {
     "data": {
      "text/plain": [
       "[Text(0.5, 0, 'Epoch'), Text(0, 0.5, 'Loss'), Text(0.5, 1.0, 'Loss vs Epoch')]"
      ]
     },
     "execution_count": 11,
     "metadata": {},
     "output_type": "execute_result"
    },
    {
     "data": {
      "image/png": "[encoded data removed]",
      "text/plain": [
       "<Figure size 432x288 with 1 Axes>"
      ]
     },
     "metadata": {},
     "output_type": "display_data"
    }
   ],
   "source": [
    "sns.set_style('darkgrid')\n",
    "ax = sns.lineplot(x=range(50), y=losses)\n",
    "ax.set(xlabel='Epoch', ylabel='Loss', title='Loss vs Epoch')"
   ]
  }
 ],
 "metadata": {
  "kernelspec": {
   "display_name": "base",
   "language": "python",
   "name": "python3"
  },
  "language_info": {
   "codemirror_mode": {
    "name": "ipython",
    "version": 3
   },
   "file_extension": ".py",
   "mimetype": "text/x-python",
   "name": "python",
   "nbconvert_exporter": "python",
   "pygments_lexer": "ipython3",
   "version": "3.9.12"
  }
 },
 "nbformat": 4,
 "nbformat_minor": 2
}
