{
 "cells": [
  {
   "cell_type": "markdown",
   "metadata": {},
   "source": [
    "# 2. Case Study"
   ]
  },
  {
   "cell_type": "code",
   "execution_count": 6,
   "metadata": {},
   "outputs": [
    {
     "name": "stdout",
     "output_type": "stream",
     "text": [
      "21\n",
      "31\n",
      "uct.ac.za\n"
     ]
    }
   ],
   "source": [
    "string = 'From stephen.marquard@uct.ac.za Sat Jan 5 09:14:16 2008'\n",
    "atpos = string.find('@')\n",
    "print(atpos)\n",
    "sppos = string.find(' ', atpos)\n",
    "print(sppos)\n",
    "host = string[atpos+1 : sppos]\n",
    "print(host)"
   ]
  },
  {
   "cell_type": "code",
   "execution_count": 9,
   "metadata": {},
   "outputs": [
    {
     "name": "stdout",
     "output_type": "stream",
     "text": [
      "I\n",
      "like\n",
      "AIVN\n",
      "0x2039f75c080\n",
      "I, like, AIVN, very much, 0x2039f75c080\n"
     ]
    }
   ],
   "source": [
    "words = ['I', 'like', \"AIVN\"]\n",
    "\n",
    "for w in words:\n",
    "    print(w)\n",
    "\n",
    "print(hex(id(words)))\n",
    "words.append('very much')\n",
    "for w in words:\n",
    "    print(w, end=', ')\n",
    "\n",
    "print(hex(id(words)))"
   ]
  },
  {
   "cell_type": "code",
   "execution_count": 10,
   "metadata": {},
   "outputs": [
    {
     "name": "stdout",
     "output_type": "stream",
     "text": [
      "i  =  2214215192816\n",
      "   =  2214223440752\n",
      "l  =  2214220604528\n",
      "i  =  2214215192816\n",
      "k  =  2214220354288\n",
      "e  =  2214220547632\n",
      "   =  2214223440752\n",
      "a  =  2214220645424\n",
      "i  =  2214215192816\n",
      "v  =  2214220354352\n",
      "n  =  2214220510128\n"
     ]
    }
   ],
   "source": [
    "words = 'i like aivn'\n",
    "\n",
    "for idx in range(0, len(words)):\n",
    "    print(words[idx], ' = ', id(words[idx]))"
   ]
  },
  {
   "cell_type": "code",
   "execution_count": 11,
   "metadata": {},
   "outputs": [
    {
     "name": "stdout",
     "output_type": "stream",
     "text": [
      "id of word_1  2214583340464\n",
      "id of word_2  2214583340464\n"
     ]
    }
   ],
   "source": [
    "word_1 = 'aivn'\n",
    "word_2 = 'aivn'\n",
    "print('id of word_1 ', id(word_1))\n",
    "print('id of word_2 ', id(word_2))"
   ]
  },
  {
   "cell_type": "code",
   "execution_count": 13,
   "metadata": {},
   "outputs": [
    {
     "name": "stdout",
     "output_type": "stream",
     "text": [
      "No of unique items are:  5\n",
      "[1, 2, 5, 8, 4]\n"
     ]
    }
   ],
   "source": [
    "#taking an input list\n",
    "input_list = [1, 2, 2, 5, 8, 4, 4, 8]\n",
    "\n",
    "#taking an input list\n",
    "l1 = []\n",
    "\n",
    "#taking an counter\n",
    "count = 0\n",
    "\n",
    "#traversing the array\n",
    "for item in input_list:\n",
    "    if item not in l1:\n",
    "        count += 1\n",
    "        l1.append(item)\n",
    "\n",
    "\n",
    "#printing the output\n",
    "print('No of unique items are: ', count)\n",
    "print(l1)"
   ]
  },
  {
   "cell_type": "code",
   "execution_count": 14,
   "metadata": {},
   "outputs": [
    {
     "name": "stdout",
     "output_type": "stream",
     "text": [
      "No of unique items in the list are:  5\n"
     ]
    }
   ],
   "source": [
    "from collections import Counter\n",
    "items = Counter(input_list).keys()\n",
    "print('No of unique items in the list are: ', len(items))"
   ]
  },
  {
   "cell_type": "code",
   "execution_count": 16,
   "metadata": {},
   "outputs": [],
   "source": [
    "data = [\"product quality\", \"delivery time\", \"price\", \"quantity\", \"customer service\",  \n",
    "        \"product quality\", \"delivery time\", \"price\", \"quantity\", \"customer service\", \n",
    "          \"product quality\", \"delivery time\", \"price\", \"quantity\", \"customer service\", \n",
    "          \"product quality\", \"product quality\", \"product quality\",\"product quality\",\n",
    "          \"product quality\",\"product quality\",\"product quality\",\"product quality\"]\n",
    "\n",
    "with open(r'data.txt', 'w') as fp:\n",
    "    for item in data:\n",
    "        fp.write(f'{item}\\n')"
   ]
  },
  {
   "cell_type": "code",
   "execution_count": 17,
   "metadata": {},
   "outputs": [
    {
     "name": "stdout",
     "output_type": "stream",
     "text": [
      "product quality\n",
      "\n"
     ]
    }
   ],
   "source": [
    "import numpy as np\n",
    "\n",
    "data = []\n",
    "with open(r'data.txt', 'r') as fp:\n",
    "    line = fp.readline()\n",
    "    data.append(line)\n",
    "\n",
    "data = data[0]\n",
    "print(data)"
   ]
  },
  {
   "cell_type": "code",
   "execution_count": 18,
   "metadata": {},
   "outputs": [
    {
     "data": {
      "text/plain": [
       "<AxesSubplot: >"
      ]
     },
     "execution_count": 18,
     "metadata": {},
     "output_type": "execute_result"
    },
    {
     "data": {
      "image/png": "[encoded data removed]",
      "text/plain": [
       "<Figure size 432x288 with 1 Axes>"
      ]
     },
     "metadata": {
      "needs_background": "light"
     },
     "output_type": "display_data"
    }
   ],
   "source": [
    "import pandas as pd\n",
    "from collections import Counter\n",
    "\n",
    "data = [\"product quality\", \"delivery time\", \"price\", \"quantity\", \"customer service\",  \n",
    "        \"product quality\", \"delivery time\", \"price\", \"quantity\", \"customer service\", \n",
    "          \"product quality\", \"delivery time\", \"price\", \"quantity\", \"customer service\", \n",
    "          \"product quality\", \"product quality\", \"product quality\",\"product quality\",\n",
    "          \"product quality\",\"product quality\",\"product quality\",\"product quality\"]\n",
    "\n",
    "\n",
    "letter_counts = Counter(data)\n",
    "df = pd.DataFrame.from_dict(letter_counts, orient='index')\n",
    "df.plot(kind='bar')"
   ]
  },
  {
   "cell_type": "code",
   "execution_count": 19,
   "metadata": {},
   "outputs": [
    {
     "data": {
      "text/plain": [
       "<AxesSubplot: >"
      ]
     },
     "execution_count": 19,
     "metadata": {},
     "output_type": "execute_result"
    },
    {
     "data": {
      "image/png": "[encoded data removed]",
      "text/plain": [
       "<Figure size 432x288 with 1 Axes>"
      ]
     },
     "metadata": {
      "needs_background": "light"
     },
     "output_type": "display_data"
    }
   ],
   "source": [
    "pd.Series(data).value_counts(sort=False).plot(kind='bar')"
   ]
  },
  {
   "cell_type": "markdown",
   "metadata": {},
   "source": [
    "# 3. List"
   ]
  },
  {
   "cell_type": "code",
   "execution_count": 2,
   "metadata": {},
   "outputs": [
    {
     "data": {
      "text/plain": [
       "[1, 2, 3, 4, 5, 6, 7, 8, 9]"
      ]
     },
     "execution_count": 2,
     "metadata": {},
     "output_type": "execute_result"
    }
   ],
   "source": [
    "l = list(range(1, 10))\n",
    "l"
   ]
  },
  {
   "cell_type": "code",
   "execution_count": 3,
   "metadata": {},
   "outputs": [
    {
     "name": "stdout",
     "output_type": "stream",
     "text": [
      "[0, 1, 2, 3, 4, 5, 6, 7, 8, 9]\n"
     ]
    }
   ],
   "source": [
    "#Method 1\n",
    "l = []\n",
    "for i in range(10):\n",
    "    l = l + [i]\n",
    "\n",
    "print(l)"
   ]
  },
  {
   "cell_type": "code",
   "execution_count": null,
   "metadata": {},
   "outputs": [],
   "source": [
    "#Method 2\n",
    "l = []\n",
    "for i in range(1000):\n",
    "    l.append(i)\n",
    "l"
   ]
  },
  {
   "cell_type": "code",
   "execution_count": 5,
   "metadata": {},
   "outputs": [
    {
     "data": {
      "text/plain": [
       "[0, 1, 2, 3, 4, 5, 6, 7, 8, 9]"
      ]
     },
     "execution_count": 5,
     "metadata": {},
     "output_type": "execute_result"
    }
   ],
   "source": [
    "#Method 3\n",
    "l = [i for i in range(10)]\n",
    "l"
   ]
  },
  {
   "cell_type": "code",
   "execution_count": 6,
   "metadata": {},
   "outputs": [
    {
     "data": {
      "text/plain": [
       "[0, 1, 2, 3, 4, 5, 6, 7, 8, 9]"
      ]
     },
     "execution_count": 6,
     "metadata": {},
     "output_type": "execute_result"
    }
   ],
   "source": [
    "#Method 4\n",
    "l = list(range(10))\n",
    "l"
   ]
  },
  {
   "cell_type": "code",
   "execution_count": 7,
   "metadata": {},
   "outputs": [
    {
     "name": "stdout",
     "output_type": "stream",
     "text": [
      "[59, 36, 16, 55, 26, 80, 33, 17, 4, 21]\n"
     ]
    }
   ],
   "source": [
    "import random\n",
    "\n",
    "l = [random.randint(1, 100) for _ in range(10)]\n",
    "print(l)"
   ]
  },
  {
   "cell_type": "code",
   "execution_count": 8,
   "metadata": {},
   "outputs": [
    {
     "name": "stdout",
     "output_type": "stream",
     "text": [
      "[7, 5, 3, 1]\n",
      "[1, 3, 5, 7]\n"
     ]
    }
   ],
   "source": [
    "lst = [1, 5,  7, 3]\n",
    "print(sorted(lst, reverse=True))\n",
    "print(sorted(lst, reverse=False))"
   ]
  },
  {
   "cell_type": "code",
   "execution_count": 9,
   "metadata": {},
   "outputs": [
    {
     "name": "stdout",
     "output_type": "stream",
     "text": [
      "[0, 1, 2, 3, 4, 5, 6, 7, 8, 9]\n",
      "[0, 1]\n",
      "[1, 2, 3]\n",
      "[4, 5, 6, 7, 8, 9]\n",
      "[0, 1, 2, 3, 4, 5]\n",
      "[0, 2, 4, 6, 8]\n",
      "[1, 3, 5, 7, 9]\n"
     ]
    }
   ],
   "source": [
    "l = list(range(10))\n",
    "\n",
    "#get all elements\n",
    "print(l[:]) # or l[0:10]\n",
    "\n",
    "#get the element at position 0, 1\n",
    "print(l[:2])\n",
    "\n",
    "#get the elements at position 1, 2, 3\n",
    "print(l[1:4])\n",
    "\n",
    "#get the 4th position element onwards\n",
    "print(l[4:])\n",
    "\n",
    "#get the first element to the 5th position\n",
    "print(l[:6])\n",
    "\n",
    "#get all even-numbered element\n",
    "print(l[0:10:2])\n",
    "\n",
    "#get all odd-numbered element\n",
    "print(l[1:10:2])"
   ]
  },
  {
   "cell_type": "code",
   "execution_count": 13,
   "metadata": {},
   "outputs": [
    {
     "name": "stdout",
     "output_type": "stream",
     "text": [
      "[50, 38, 62, 20, 83, 34, 3, 96, 41, 16]\n",
      "[50, 62]\n",
      "[62, 20, 83]\n",
      "[20, 83, 34, 3, 96, 41, 16]\n",
      "[50, 38, 62, 20, 83, 34]\n"
     ]
    }
   ],
   "source": [
    "import random\n",
    "\n",
    "\n",
    "l = [random.randint(1, 100) for _ in range(10)]\n",
    "\n",
    "#get all elemets\n",
    "print(l[:])\n",
    "\n",
    "#get position elemetn 0, 2\n",
    "print(l[0:3:2])\n",
    "\n",
    "#get postion element 2, 3 ,4\n",
    "print(l[2:5])\n",
    "\n",
    "#get the 3rd position element onwards\n",
    "print(l[3:])\n",
    "\n",
    "#take the parts from the first position to the 6th postion\n",
    "print(l[:6])"
   ]
  },
  {
   "cell_type": "markdown",
   "metadata": {},
   "source": [
    "# 4. List copy"
   ]
  },
  {
   "cell_type": "code",
   "execution_count": 14,
   "metadata": {},
   "outputs": [
    {
     "name": "stdout",
     "output_type": "stream",
     "text": [
      "(1, 2, 3)\n",
      "(1, 2, 3)\n",
      "tuple1 address:  1864007491904\n",
      "tuple2 address:  1864007491904\n"
     ]
    }
   ],
   "source": [
    "list1 = (1, 2, 3)\n",
    "list2 = list1\n",
    "\n",
    "print(list1)\n",
    "print(list2)\n",
    "\n",
    "print('tuple1 address: ', id(list1))\n",
    "print('tuple2 address: ', id(list2))"
   ]
  },
  {
   "cell_type": "code",
   "execution_count": 16,
   "metadata": {},
   "outputs": [
    {
     "name": "stdout",
     "output_type": "stream",
     "text": [
      "list 1:  [range(1, 6)]\n",
      "List1 address:  1863996951616\n",
      "list2:  [range(1, 6)]\n",
      "list2 address:  1863995992000\n"
     ]
    }
   ],
   "source": [
    "import copy\n",
    "\n",
    "list1 = [range(1, 6)]\n",
    "list2 = copy.copy(list1)\n",
    "\n",
    "print(\"list 1: \", list1)\n",
    "print('List1 address: ', id(list1))\n",
    "\n",
    "print(\"list2: \", list2)\n",
    "print('list2 address: ', id(list2))"
   ]
  },
  {
   "cell_type": "code",
   "execution_count": 17,
   "metadata": {},
   "outputs": [
    {
     "name": "stdout",
     "output_type": "stream",
     "text": [
      "[6, 5, 7, 1, 9, 2]\n",
      "[6, 5, 7, 1, 9, 2, 4]\n"
     ]
    }
   ],
   "source": [
    "data = [6, 5, 7, 1, 9, 2]\n",
    "print(data)\n",
    "data.append(4)\n",
    "print(data)"
   ]
  },
  {
   "cell_type": "code",
   "execution_count": 18,
   "metadata": {},
   "outputs": [
    {
     "name": "stdout",
     "output_type": "stream",
     "text": [
      "[6, 5, 7, 1, 9, 2]\n",
      "[4, 6, 5, 7, 1, 9, 2]\n"
     ]
    }
   ],
   "source": [
    "data = [6, 5, 7, 1, 9, 2]\n",
    "print(data)\n",
    "data.insert(0, 4)\n",
    "print(data)"
   ]
  },
  {
   "cell_type": "code",
   "execution_count": 19,
   "metadata": {},
   "outputs": [
    {
     "name": "stdout",
     "output_type": "stream",
     "text": [
      "[6, 5, 7, 1, 9, 2]\n",
      "[6, 4, 7, 1, 9, 2]\n"
     ]
    }
   ],
   "source": [
    "data = [6, 5, 7, 1, 9, 2]\n",
    "print(data)\n",
    "data[1] = 4\n",
    "print(data)"
   ]
  },
  {
   "cell_type": "code",
   "execution_count": 20,
   "metadata": {},
   "outputs": [
    {
     "name": "stdout",
     "output_type": "stream",
     "text": [
      "[6, 5, 7, 1, 9, 2]\n",
      "[6, 5, 7, 1, 9, 2, 9, 2]\n"
     ]
    }
   ],
   "source": [
    "data = [6, 5, 7, 1, 9, 2]\n",
    "print(data)\n",
    "data.extend([9, 2])\n",
    "print(data)"
   ]
  },
  {
   "cell_type": "code",
   "execution_count": 21,
   "metadata": {},
   "outputs": [
    {
     "name": "stdout",
     "output_type": "stream",
     "text": [
      "[6, 5, 7, 1, 9, 2]\n",
      "[6, 5, 1, 9, 2]\n"
     ]
    }
   ],
   "source": [
    "data = [6, 5, 7, 1, 9, 2]\n",
    "print(data)\n",
    "data.pop(2) # by index\n",
    "print(data)"
   ]
  },
  {
   "cell_type": "code",
   "execution_count": 22,
   "metadata": {},
   "outputs": [
    {
     "name": "stdout",
     "output_type": "stream",
     "text": [
      "[6, 5, 7, 1, 9, 2]\n",
      "[6, 5, 1, 9, 2]\n"
     ]
    }
   ],
   "source": [
    "data = [6, 5, 7, 1, 9, 2]\n",
    "print(data)\n",
    "data.remove(7) #by value\n",
    "print(data)"
   ]
  },
  {
   "cell_type": "code",
   "execution_count": 2,
   "metadata": {},
   "outputs": [
    {
     "name": "stdout",
     "output_type": "stream",
     "text": [
      "[6, 5, 7, 1, 9, 2]\n",
      "[1, 2, 5, 6, 7, 9]\n",
      "[9, 7, 6, 5, 2, 1]\n"
     ]
    }
   ],
   "source": [
    "data = [6, 5, 7, 1, 9, 2]\n",
    "print(data)\n",
    "data.sort()\n",
    "print(data)\n",
    "data.sort(reverse=True)\n",
    "print(data)\n"
   ]
  },
  {
   "cell_type": "code",
   "execution_count": 1,
   "metadata": {},
   "outputs": [],
   "source": [
    "import random"
   ]
  },
  {
   "cell_type": "code",
   "execution_count": 3,
   "metadata": {},
   "outputs": [
    {
     "name": "stdout",
     "output_type": "stream",
     "text": [
      "[True, False, False, False, True, False, False, False, True, False]\n",
      "3\n"
     ]
    }
   ],
   "source": [
    "lst = [random.random() > 0.5 for _ in range(10)]\n",
    "print(lst)\n",
    "print(sum(lst))"
   ]
  },
  {
   "cell_type": "code",
   "execution_count": 3,
   "metadata": {},
   "outputs": [
    {
     "name": "stdout",
     "output_type": "stream",
     "text": [
      "[6, 5, 7, 1, 9, 2]\n",
      "4\n"
     ]
    }
   ],
   "source": [
    "data = [6, 5, 7, 1, 9, 2]\n",
    "print(data)\n",
    "\n",
    "indexOf9 = data.index(9)\n",
    "print(indexOf9)"
   ]
  },
  {
   "cell_type": "code",
   "execution_count": 5,
   "metadata": {},
   "outputs": [
    {
     "name": "stdout",
     "output_type": "stream",
     "text": [
      "[6, 5, 7, 1, 9, 2]\n",
      "[2, 9, 1, 7, 5, 6]\n"
     ]
    }
   ],
   "source": [
    "data = [6, 5, 7, 1, 9, 2]\n",
    "print(data)\n",
    "data.reverse()\n",
    "print(data)"
   ]
  },
  {
   "cell_type": "code",
   "execution_count": 6,
   "metadata": {},
   "outputs": [
    {
     "name": "stdout",
     "output_type": "stream",
     "text": [
      "[6, 5, 7, 1, 9, 2]\n",
      "30\n"
     ]
    }
   ],
   "source": [
    "#custom summation - way 1\n",
    "def computeSummation(data):\n",
    "    result = 0\n",
    "\n",
    "    for value in data:\n",
    "        result += value\n",
    "\n",
    "    return result\n",
    "\n",
    "data = [6, 5, 7, 1, 9, 2]\n",
    "print(data)\n",
    "print(computeSummation(data))"
   ]
  },
  {
   "cell_type": "code",
   "execution_count": 7,
   "metadata": {},
   "outputs": [
    {
     "name": "stdout",
     "output_type": "stream",
     "text": [
      "[6, 5, 7, 1, 9, 2]\n",
      "30\n"
     ]
    }
   ],
   "source": [
    "#custom summation - way 2\n",
    "def computeSummation2(data):\n",
    "    result = 0\n",
    "    length = len(data)\n",
    "\n",
    "    for index in range(length):\n",
    "        result += data[index]\n",
    "    return result\n",
    "\n",
    "data = [6, 5, 7, 1, 9, 2]\n",
    "print(data)\n",
    "print(computeSummation2(data))"
   ]
  },
  {
   "cell_type": "code",
   "execution_count": 8,
   "metadata": {},
   "outputs": [
    {
     "name": "stdout",
     "output_type": "stream",
     "text": [
      "[6, 5, 7, 1, 9, 2]\n",
      "8\n"
     ]
    }
   ],
   "source": [
    "#sum of even number \n",
    "def sum1(data):\n",
    "    result = 0\n",
    "\n",
    "    for value in data:\n",
    "        if value%2 == 0:\n",
    "            result += value\n",
    "    \n",
    "    return result\n",
    "\n",
    "data = [6, 5, 7, 1, 9, 2]\n",
    "print(data)\n",
    "print(sum1(data))"
   ]
  },
  {
   "cell_type": "code",
   "execution_count": 9,
   "metadata": {},
   "outputs": [
    {
     "name": "stdout",
     "output_type": "stream",
     "text": [
      "[6, 5, 7, 1, 9, 2]\n",
      "22\n"
     ]
    }
   ],
   "source": [
    "#sum of numbers with even indices\n",
    "\n",
    "def sum2(data):\n",
    "    result = 0\n",
    "    length = len(data)\n",
    "\n",
    "    for index in range(length):\n",
    "        if index%2 == 0:\n",
    "            result += data[index]\n",
    "    return result\n",
    "\n",
    "\n",
    "data = [6, 5, 7, 1, 9, 2]\n",
    "print(data)\n",
    "print(sum2(data))"
   ]
  },
  {
   "cell_type": "code",
   "execution_count": 10,
   "metadata": {},
   "outputs": [
    {
     "name": "stdout",
     "output_type": "stream",
     "text": [
      "[6, 5, 7, 1, 9, 2]\n",
      "[36, 25, 49, 1, 81, 4]\n"
     ]
    }
   ],
   "source": [
    "#square function\n",
    "def square(data):\n",
    "    result = []\n",
    "    for value in data:\n",
    "        result.append(value**2)\n",
    "    return result\n",
    "\n",
    "data = [6, 5, 7, 1, 9, 2]\n",
    "print(data)\n",
    "print(square(data))"
   ]
  },
  {
   "cell_type": "code",
   "execution_count": 11,
   "metadata": {},
   "outputs": [
    {
     "name": "stdout",
     "output_type": "stream",
     "text": [
      "[6, 5, 7, 1, 9, 2]\n",
      "[36, 25, 49, 1, 81, 4]\n"
     ]
    }
   ],
   "source": [
    "#using list comprehension\n",
    "def square2(data):\n",
    "    result = [value**2 for value in data]\n",
    "\n",
    "    return result\n",
    "\n",
    "data = [6, 5, 7, 1, 9, 2]\n",
    "print(data)\n",
    "print(square2(data))"
   ]
  },
  {
   "cell_type": "code",
   "execution_count": 12,
   "metadata": {},
   "outputs": [
    {
     "name": "stdout",
     "output_type": "stream",
     "text": [
      "[1, 5, -4, 4, -2]\n",
      "[0.7310585786300049, 0.9933071490757153, 0.01798620996209156, 0.9820137900379085, 0.11920292202211755]\n"
     ]
    }
   ],
   "source": [
    "import math\n",
    "\n",
    "#sigmoid function\n",
    "def sigmoid(x):\n",
    "    result = 1 / (1+math.exp(-x))\n",
    "    return result\n",
    "\n",
    "def sigmoidForList(data):\n",
    "    result = [sigmoid(value) for value in data]\n",
    "    return result\n",
    "\n",
    "#test\n",
    "data = [1, 5, -4, 4, -2]\n",
    "print(data)\n",
    "data_a = sigmoidForList(data)\n",
    "print(data_a)"
   ]
  },
  {
   "cell_type": "code",
   "execution_count": 13,
   "metadata": {},
   "outputs": [
    {
     "name": "stdout",
     "output_type": "stream",
     "text": [
      "[1, 5, -4, 4, -2]\n",
      "[1, 5, 0, 4, 0]\n"
     ]
    }
   ],
   "source": [
    "#relu function\n",
    "def relu(x):\n",
    "    result = 0\n",
    "    if x > 0:\n",
    "        result = x\n",
    "    return result\n",
    "\n",
    "#relu for list\n",
    "def reluForList(data):\n",
    "    result = [relu(value) for value in data]\n",
    "    return result\n",
    "\n",
    "#test\n",
    "data = [1, 5, -4, 4, -2]\n",
    "print(data)\n",
    "data_a = reluForList(data)\n",
    "print(data_a)"
   ]
  },
  {
   "cell_type": "code",
   "execution_count": 14,
   "metadata": {},
   "outputs": [
    {
     "name": "stdout",
     "output_type": "stream",
     "text": [
      "[1, 5, -4, 4, -2]\n",
      "[1, 5, 0, 4, 0]\n"
     ]
    }
   ],
   "source": [
    "#relu function\n",
    "def relu(data):\n",
    "    result = [x if x>0 else 0 for x in data]\n",
    "    return result\n",
    "\n",
    "#test\n",
    "data = [1, 5, -4, 4, -2]\n",
    "print(data)\n",
    "print(relu(data))"
   ]
  },
  {
   "cell_type": "code",
   "execution_count": 16,
   "metadata": {},
   "outputs": [
    {
     "name": "stdout",
     "output_type": "stream",
     "text": [
      "[1, 5, -4, 3, -2]\n",
      "[1, 5, 0, 3, 0]\n"
     ]
    }
   ],
   "source": [
    "#quiz 1\n",
    "data = [1, 5, -4, 3, -2]\n",
    "print(data)\n",
    "\n",
    "data_a = [x if x>0 else 0 for x in data]\n",
    "print(data_a)"
   ]
  },
  {
   "cell_type": "code",
   "execution_count": 17,
   "metadata": {},
   "outputs": [
    {
     "ename": "SyntaxError",
     "evalue": "invalid syntax (296527983.py, line 5)",
     "output_type": "error",
     "traceback": [
      "\u001b[1;36m  Input \u001b[1;32mIn [17]\u001b[1;36m\u001b[0m\n\u001b[1;33m    data_a = [x if x > 0 for x in data]\u001b[0m\n\u001b[1;37m                         ^\u001b[0m\n\u001b[1;31mSyntaxError\u001b[0m\u001b[1;31m:\u001b[0m invalid syntax\n"
     ]
    }
   ],
   "source": [
    "#quiz 2\n",
    "data = [1, 5, -4, 3, -2]\n",
    "print(data)\n",
    "\n",
    "data_a = [x if x > 0 for x in data]\n",
    "print(data_a)"
   ]
  },
  {
   "cell_type": "code",
   "execution_count": 18,
   "metadata": {},
   "outputs": [
    {
     "name": "stdout",
     "output_type": "stream",
     "text": [
      "[1, 5, -4, 3, -2]\n",
      "[1, 5, 3]\n"
     ]
    }
   ],
   "source": [
    "#quiz 3\n",
    "data = [1, 5, -4, 3, -2]\n",
    "print(data)\n",
    "\n",
    "data_a = [x for x in data if x > 0]\n",
    "print(data_a)"
   ]
  },
  {
   "cell_type": "code",
   "execution_count": 19,
   "metadata": {},
   "outputs": [
    {
     "ename": "SyntaxError",
     "evalue": "invalid syntax (1475634128.py, line 5)",
     "output_type": "error",
     "traceback": [
      "\u001b[1;36m  Input \u001b[1;32mIn [19]\u001b[1;36m\u001b[0m\n\u001b[1;33m    data_a = [x for x in data if x > 0 else 0]\u001b[0m\n\u001b[1;37m                                       ^\u001b[0m\n\u001b[1;31mSyntaxError\u001b[0m\u001b[1;31m:\u001b[0m invalid syntax\n"
     ]
    }
   ],
   "source": [
    "#quiz 3\n",
    "data = [1, 5, -4, 3, -2]\n",
    "print(data)\n",
    "\n",
    "data_a = [x for x in data if x > 0 else 0]\n",
    "print(data_a)"
   ]
  },
  {
   "cell_type": "code",
   "execution_count": 20,
   "metadata": {},
   "outputs": [
    {
     "name": "stdout",
     "output_type": "stream",
     "text": [
      "[6, 5, 7, 1, 9, 2]\n",
      "[36, 25, 49, 1, 81, 4]\n"
     ]
    }
   ],
   "source": [
    "#immutable\n",
    "def quare(data):\n",
    "    result = []\n",
    "    for value in data:\n",
    "        result.append(value*value)\n",
    "\n",
    "    return result\n",
    "\n",
    "#test\n",
    "data = [6, 5, 7, 1, 9, 2]\n",
    "print(data)\n",
    "\n",
    "data_s = square(data)\n",
    "print(data_s)"
   ]
  },
  {
   "cell_type": "code",
   "execution_count": 22,
   "metadata": {},
   "outputs": [
    {
     "name": "stdout",
     "output_type": "stream",
     "text": [
      "[6, 5, 7, 1, 9, 2]\n",
      "[36, 25, 49, 1, 81, 4]\n"
     ]
    }
   ],
   "source": [
    "#mutable\n",
    "def square2(data):\n",
    "    length = len(data)\n",
    "    for index in range(length):\n",
    "        value = data[index]\n",
    "        data[index] = value*value\n",
    "\n",
    "\n",
    "#test\n",
    "data = [6, 5, 7, 1, 9, 2]\n",
    "print(data)\n",
    "\n",
    "square2(data)\n",
    "print(data)"
   ]
  },
  {
   "cell_type": "markdown",
   "metadata": {},
   "source": [
    "5. Convert to List"
   ]
  },
  {
   "cell_type": "code",
   "execution_count": 23,
   "metadata": {},
   "outputs": [
    {
     "name": "stdout",
     "output_type": "stream",
     "text": [
      "AI\n",
      "['A', 'I']\n"
     ]
    }
   ],
   "source": [
    "name = 'AI'\n",
    "data = list(name)\n",
    "\n",
    "print(name)\n",
    "print(data)"
   ]
  },
  {
   "cell_type": "markdown",
   "metadata": {},
   "source": [
    "# 7. Matplotlib"
   ]
  },
  {
   "cell_type": "code",
   "execution_count": 26,
   "metadata": {},
   "outputs": [
    {
     "data": {
      "image/png": "[encoded data removed]",
      "text/plain": [
       "<Figure size 432x288 with 1 Axes>"
      ]
     },
     "metadata": {
      "needs_background": "light"
     },
     "output_type": "display_data"
    }
   ],
   "source": [
    "import matplotlib.pyplot as plt\n",
    "\n",
    "x_data = list(range(0, 6))\n",
    "y_data = [1, 3, 4, 2, 7, 9]\n",
    "\n",
    "plt.plot(x_data, y_data)\n",
    "plt.show()"
   ]
  },
  {
   "cell_type": "code",
   "execution_count": 27,
   "metadata": {},
   "outputs": [
    {
     "name": "stdout",
     "output_type": "stream",
     "text": [
      "[-8.0, -7.9, -7.8, -7.7, -7.6, -7.5, -7.4, -7.3, -7.2, -7.1, -7.0, -6.9, -6.8, -6.7, -6.6, -6.5, -6.4, -6.3, -6.2, -6.1, -6.0, -5.9, -5.8, -5.7, -5.6, -5.5, -5.4, -5.3, -5.2, -5.1, -5.0, -4.9, -4.8, -4.7, -4.6, -4.5, -4.4, -4.3, -4.2, -4.1, -4.0, -3.9, -3.8, -3.7, -3.6, -3.5, -3.4, -3.3, -3.2, -3.1, -3.0, -2.9, -2.8, -2.7, -2.6, -2.5, -2.4, -2.3, -2.2, -2.1, -2.0, -1.9, -1.8, -1.7, -1.6, -1.5, -1.4, -1.3, -1.2, -1.1, -1.0, -0.9, -0.8, -0.7, -0.6, -0.5, -0.4, -0.3, -0.2, -0.1, 0.0, 0.1, 0.2, 0.3, 0.4, 0.5, 0.6, 0.7, 0.8, 0.9, 1.0, 1.1, 1.2, 1.3, 1.4, 1.5, 1.6, 1.7, 1.8, 1.9, 2.0, 2.1, 2.2, 2.3, 2.4, 2.5, 2.6, 2.7, 2.8, 2.9, 3.0, 3.1, 3.2, 3.3, 3.4, 3.5, 3.6, 3.7, 3.8, 3.9, 4.0, 4.1, 4.2, 4.3, 4.4, 4.5, 4.6, 4.7, 4.8, 4.9, 5.0, 5.1, 5.2, 5.3, 5.4, 5.5, 5.6, 5.7, 5.8, 5.9, 6.0, 6.1, 6.2, 6.3, 6.4, 6.5, 6.6, 6.7, 6.8, 6.9, 7.0, 7.1, 7.2, 7.3, 7.4, 7.5, 7.6, 7.7, 7.8, 7.9]\n"
     ]
    }
   ],
   "source": [
    "x_data = list(range(-80, 80, 1))\n",
    "x_data = [x/10.0 for x in x_data]\n",
    "print(x_data)"
   ]
  },
  {
   "cell_type": "code",
   "execution_count": 28,
   "metadata": {},
   "outputs": [
    {
     "name": "stdout",
     "output_type": "stream",
     "text": [
      "[64.0, 62.410000000000004, 60.839999999999996, 59.290000000000006, 57.76, 56.25, 54.760000000000005, 53.29, 51.84, 50.41, 49.0, 47.61000000000001, 46.239999999999995, 44.89, 43.559999999999995, 42.25, 40.96000000000001, 39.69, 38.440000000000005, 37.209999999999994, 36.0, 34.81, 33.64, 32.49, 31.359999999999996, 30.25, 29.160000000000004, 28.09, 27.040000000000003, 26.009999999999998, 25.0, 24.010000000000005, 23.04, 22.090000000000003, 21.159999999999997, 20.25, 19.360000000000003, 18.49, 17.64, 16.81, 16.0, 15.209999999999999, 14.44, 13.690000000000001, 12.96, 12.25, 11.559999999999999, 10.889999999999999, 10.240000000000002, 9.610000000000001, 9.0, 8.41, 7.839999999999999, 7.290000000000001, 6.760000000000001, 6.25, 5.76, 5.289999999999999, 4.840000000000001, 4.41, 4.0, 3.61, 3.24, 2.8899999999999997, 2.5600000000000005, 2.25, 1.9599999999999997, 1.6900000000000002, 1.44, 1.2100000000000002, 1.0, 0.81, 0.6400000000000001, 0.48999999999999994, 0.36, 0.25, 0.16000000000000003, 0.09, 0.04000000000000001, 0.010000000000000002, 0.0, 0.010000000000000002, 0.04000000000000001, 0.09, 0.16000000000000003, 0.25, 0.36, 0.48999999999999994, 0.6400000000000001, 0.81, 1.0, 1.2100000000000002, 1.44, 1.6900000000000002, 1.9599999999999997, 2.25, 2.5600000000000005, 2.8899999999999997, 3.24, 3.61, 4.0, 4.41, 4.840000000000001, 5.289999999999999, 5.76, 6.25, 6.760000000000001, 7.290000000000001, 7.839999999999999, 8.41, 9.0, 9.610000000000001, 10.240000000000002, 10.889999999999999, 11.559999999999999, 12.25, 12.96, 13.690000000000001, 14.44, 15.209999999999999, 16.0, 16.81, 17.64, 18.49, 19.360000000000003, 20.25, 21.159999999999997, 22.090000000000003, 23.04, 24.010000000000005, 25.0, 26.009999999999998, 27.040000000000003, 28.09, 29.160000000000004, 30.25, 31.359999999999996, 32.49, 33.64, 34.81, 36.0, 37.209999999999994, 38.440000000000005, 39.69, 40.96000000000001, 42.25, 43.559999999999995, 44.89, 46.239999999999995, 47.61000000000001, 49.0, 50.41, 51.84, 53.29, 54.760000000000005, 56.25, 57.76, 59.290000000000006, 60.839999999999996, 62.410000000000004]\n"
     ]
    }
   ],
   "source": [
    "y_data = [x*x for x in x_data]\n",
    "print(y_data)"
   ]
  },
  {
   "cell_type": "code",
   "execution_count": 29,
   "metadata": {},
   "outputs": [
    {
     "data": {
      "image/png": "[encoded data removed]",
      "text/plain": [
       "<Figure size 432x288 with 1 Axes>"
      ]
     },
     "metadata": {
      "needs_background": "light"
     },
     "output_type": "display_data"
    }
   ],
   "source": [
    "plt.plot(x_data, y_data)\n",
    "plt.show()"
   ]
  },
  {
   "cell_type": "code",
   "execution_count": 30,
   "metadata": {},
   "outputs": [
    {
     "data": {
      "image/png": "[encoded data removed]",
      "text/plain": [
       "<Figure size 432x288 with 1 Axes>"
      ]
     },
     "metadata": {
      "needs_background": "light"
     },
     "output_type": "display_data"
    }
   ],
   "source": [
    "x_data = list(range(-8, 8, 1))\n",
    "y_data = [x*x for x in x_data]\n",
    "\n",
    "plt.plot(x_data, y_data)\n",
    "plt.show()"
   ]
  },
  {
   "cell_type": "code",
   "execution_count": 31,
   "metadata": {},
   "outputs": [],
   "source": [
    "def linear_space(start, stop, num=10):\n",
    "    step = (stop - start) / num\n",
    "    result = []\n",
    "    for i in range(num):\n",
    "        result.append(start + step*i)\n",
    "\n",
    "    return result\n"
   ]
  },
  {
   "cell_type": "code",
   "execution_count": 33,
   "metadata": {},
   "outputs": [
    {
     "name": "stdout",
     "output_type": "stream",
     "text": [
      "[-8.0, -7.84, -7.68, -7.52, -7.36, -7.2, -7.04, -6.88, -6.72, -6.5600000000000005, -6.4, -6.24, -6.08, -5.92, -5.76, -5.6, -5.4399999999999995, -5.279999999999999, -5.12, -4.96, -4.8, -4.640000000000001, -4.48, -4.32, -4.16, -4.0, -3.84, -3.6799999999999997, -3.5199999999999996, -3.3600000000000003, -3.2, -3.04, -2.88, -2.7199999999999998, -2.5599999999999996, -2.3999999999999995, -2.24, -2.08, -1.92, -1.7599999999999998, -1.5999999999999996, -1.4399999999999995, -1.2800000000000002, -1.12, -0.96, -0.7999999999999998, -0.6399999999999997, -0.47999999999999954, -0.3200000000000003, -0.16000000000000014, 0.0, 0.16000000000000014, 0.3200000000000003, 0.4800000000000004, 0.6400000000000006, 0.8000000000000007, 0.9600000000000009, 1.120000000000001, 1.2799999999999994, 1.4399999999999995, 1.5999999999999996, 1.7599999999999998, 1.92, 2.08, 2.24, 2.4000000000000004, 2.5600000000000005, 2.7200000000000006, 2.880000000000001, 3.040000000000001, 3.200000000000001, 3.3599999999999994, 3.5199999999999996, 3.6799999999999997, 3.84, 4.0, 4.16, 4.32, 4.48, 4.640000000000001, 4.800000000000001, 4.960000000000001, 5.120000000000001, 5.280000000000001, 5.4399999999999995, 5.6, 5.76, 5.92, 6.08, 6.24, 6.4, 6.5600000000000005, 6.720000000000001, 6.880000000000001, 7.040000000000001, 7.200000000000001, 7.359999999999999, 7.52, 7.68, 7.84]\n"
     ]
    }
   ],
   "source": [
    "x_data = linear_space(-8, 8, 100)\n",
    "print(x_data)"
   ]
  },
  {
   "cell_type": "code",
   "execution_count": 34,
   "metadata": {},
   "outputs": [
    {
     "data": {
      "image/png": "[encoded data removed]",
      "text/plain": [
       "<Figure size 432x288 with 1 Axes>"
      ]
     },
     "metadata": {
      "needs_background": "light"
     },
     "output_type": "display_data"
    }
   ],
   "source": [
    "x_data = linear_space(-8, 8, 100)\n",
    "y_data = [v*v for v in x_data]\n",
    "\n",
    "plt.plot(x_data, y_data)\n",
    "plt.ylabel('y values')\n",
    "plt.xlabel('x values')\n",
    "\n",
    "plt.show()"
   ]
  },
  {
   "cell_type": "code",
   "execution_count": 36,
   "metadata": {},
   "outputs": [
    {
     "name": "stdout",
     "output_type": "stream",
     "text": [
      "Done\n"
     ]
    }
   ],
   "source": [
    "names = [1, 2, 3]\n",
    "\n",
    "#open file in write mode\n",
    "with open(r'sales.txt', 'w') as fp:\n",
    "    for item in names:\n",
    "        #write each item on a new line\n",
    "        fp.write('%s\\n' % item)\n",
    "    print('Done')\n",
    "\n"
   ]
  },
  {
   "cell_type": "code",
   "execution_count": 37,
   "metadata": {},
   "outputs": [
    {
     "name": "stdout",
     "output_type": "stream",
     "text": [
      "Done\n"
     ]
    }
   ],
   "source": [
    "#write to a log file\n",
    "with open(r'log.txt', 'w') as fp:\n",
    "    for item in x_data:\n",
    "        #write each item on a new value\n",
    "        fp.write(f'{item}\\n')\n",
    "    print('Done')"
   ]
  },
  {
   "cell_type": "code",
   "execution_count": 38,
   "metadata": {},
   "outputs": [
    {
     "name": "stdout",
     "output_type": "stream",
     "text": [
      "[-8.0, -7.84, -7.68, -7.52, -7.36, -7.2, -7.04, -6.88, -6.72, -6.5600000000000005, -6.4, -6.24, -6.08, -5.92, -5.76, -5.6, -5.4399999999999995, -5.279999999999999, -5.12, -4.96, -4.8, -4.640000000000001, -4.48, -4.32, -4.16, -4.0, -3.84, -3.6799999999999997, -3.5199999999999996, -3.3600000000000003, -3.2, -3.04, -2.88, -2.7199999999999998, -2.5599999999999996, -2.3999999999999995, -2.24, -2.08, -1.92, -1.7599999999999998, -1.5999999999999996, -1.4399999999999995, -1.2800000000000002, -1.12, -0.96, -0.7999999999999998, -0.6399999999999997, -0.47999999999999954, -0.3200000000000003, -0.16000000000000014, 0.0, 0.16000000000000014, 0.3200000000000003, 0.4800000000000004, 0.6400000000000006, 0.8000000000000007, 0.9600000000000009, 1.120000000000001, 1.2799999999999994, 1.4399999999999995, 1.5999999999999996, 1.7599999999999998, 1.92, 2.08, 2.24, 2.4000000000000004, 2.5600000000000005, 2.7200000000000006, 2.880000000000001, 3.040000000000001, 3.200000000000001, 3.3599999999999994, 3.5199999999999996, 3.6799999999999997, 3.84, 4.0, 4.16, 4.32, 4.48, 4.640000000000001, 4.800000000000001, 4.960000000000001, 5.120000000000001, 5.280000000000001, 5.4399999999999995, 5.6, 5.76, 5.92, 6.08, 6.24, 6.4, 6.5600000000000005, 6.720000000000001, 6.880000000000001, 7.040000000000001, 7.200000000000001, 7.359999999999999, 7.52, 7.68, 7.84]\n"
     ]
    }
   ],
   "source": [
    "data = []\n",
    "\n",
    "with open(r'log.txt', 'r') as fp:\n",
    "    lines = fp.readlines()\n",
    "    for line in lines:\n",
    "        line = line.strip('\\n')\n",
    "        data.append(float(line))\n",
    "\n",
    "print(data)"
   ]
  },
  {
   "cell_type": "code",
   "execution_count": null,
   "metadata": {},
   "outputs": [],
   "source": []
  }
 ],
 "metadata": {
  "kernelspec": {
   "display_name": "base",
   "language": "python",
   "name": "python3"
  },
  "language_info": {
   "codemirror_mode": {
    "name": "ipython",
    "version": 3
   },
   "file_extension": ".py",
   "mimetype": "text/x-python",
   "name": "python",
   "nbconvert_exporter": "python",
   "pygments_lexer": "ipython3",
   "version": "3.9.12"
  }
 },
 "nbformat": 4,
 "nbformat_minor": 2
}
