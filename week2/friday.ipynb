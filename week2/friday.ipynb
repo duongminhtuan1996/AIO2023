{
 "cells": [
  {
   "cell_type": "code",
   "execution_count": 1,
   "metadata": {},
   "outputs": [
    {
     "name": "stdout",
     "output_type": "stream",
     "text": [
      "{'first': 'string value', 'second': [1, 2]}\n"
     ]
    }
   ],
   "source": [
    "d = {'first':'string value',\n",
    "     'second': [1, 2]}\n",
    "item = d.items()\n",
    "print(d)"
   ]
  },
  {
   "cell_type": "code",
   "execution_count": 4,
   "metadata": {},
   "outputs": [
    {
     "name": "stdout",
     "output_type": "stream",
     "text": [
      "(5, 4, 3, 2, 1)\n"
     ]
    }
   ],
   "source": [
    "data = (1, 2 ,3, 4, 5)\n",
    "print(data[::-1])"
   ]
  },
  {
   "cell_type": "code",
   "execution_count": 6,
   "metadata": {},
   "outputs": [
    {
     "name": "stdout",
     "output_type": "stream",
     "text": [
      "(1, 2, [2, 10])\n"
     ]
    }
   ],
   "source": [
    "t = (1 ,2 , [9, 10])\n",
    "t[2][0] = 2\n",
    "print(t)"
   ]
  },
  {
   "cell_type": "code",
   "execution_count": 9,
   "metadata": {},
   "outputs": [
    {
     "name": "stdout",
     "output_type": "stream",
     "text": [
      "(1, 2, 3, 4, 5)\n",
      "<class 'str'>\n",
      "(\n"
     ]
    }
   ],
   "source": [
    "data = (1, 2, 3, 4, 5)\n",
    "data_str = str(data)\n",
    "print(data_str)\n",
    "print(type(data_str))\n",
    "print(data_str[0])"
   ]
  },
  {
   "cell_type": "code",
   "execution_count": 11,
   "metadata": {},
   "outputs": [
    {
     "name": "stdout",
     "output_type": "stream",
     "text": [
      "15\n"
     ]
    }
   ],
   "source": [
    "print(sum(data))"
   ]
  },
  {
   "cell_type": "code",
   "execution_count": 12,
   "metadata": {},
   "outputs": [
    {
     "data": {
      "text/plain": [
       "[5, 4, 3, 2, 1]"
      ]
     },
     "execution_count": 12,
     "metadata": {},
     "output_type": "execute_result"
    }
   ],
   "source": [
    "sorted(data, reverse=True)"
   ]
  },
  {
   "cell_type": "code",
   "execution_count": 16,
   "metadata": {},
   "outputs": [
    {
     "name": "stdout",
     "output_type": "stream",
     "text": [
      "1 a\n",
      "2 b\n",
      "3 c\n",
      "4 d\n",
      "5 e\n",
      "{}\n"
     ]
    }
   ],
   "source": [
    "t1 = (1, 2, 3, 4, 5)\n",
    "t2 = ('a', 'b', 'c', 'd', 'e')\n",
    "\n",
    "t3 = zip(t1, t2)\n",
    "for x, y in t3:\n",
    "    print(x, y)\n",
    "    "
   ]
  },
  {
   "cell_type": "code",
   "execution_count": 17,
   "metadata": {},
   "outputs": [],
   "source": [
    "import math\n",
    "def quadratic_equation(a, b, c):\n",
    "    '''\n",
    "    This function aims at solving the quadratic equation\n",
    "    a,b,c -- three parameters and a!=0\n",
    "    '''\n",
    "\n",
    "    #compute delta\n",
    "    delta = b**2 - 4*a*c\n",
    "\n",
    "    if delta < 0:\n",
    "        return ('equation no nghiệm',)\n",
    "    \n",
    "    elif delta == 0:\n",
    "        x = -b/(2*a)\n",
    "        return (x,)\n",
    "    else:\n",
    "        x1 = (-b+math.sqrt(delta))/(2*a)\n",
    "        x2 = (-b-math.sqrt(delta))/(2*a)\n",
    "        return (x1, x2)\n",
    "    \n",
    "\n",
    "    \n"
   ]
  },
  {
   "cell_type": "code",
   "execution_count": 18,
   "metadata": {},
   "outputs": [
    {
     "name": "stdout",
     "output_type": "stream",
     "text": [
      "<class 'tuple'>\n",
      "1\n",
      "('equation no nghiệm',)\n"
     ]
    }
   ],
   "source": [
    "result = quadratic_equation(5, 0, 1)\n",
    "print(type(result))\n",
    "print(len(result))\n",
    "print(result)"
   ]
  },
  {
   "cell_type": "code",
   "execution_count": 19,
   "metadata": {},
   "outputs": [
    {
     "name": "stdout",
     "output_type": "stream",
     "text": [
      "<class 'tuple'>\n",
      "2\n",
      "(-0.276393202250021, -0.7236067977499789)\n"
     ]
    }
   ],
   "source": [
    "result = quadratic_equation(5, 5, 1)\n",
    "print(type(result))\n",
    "print(len(result))\n",
    "print(result)"
   ]
  },
  {
   "cell_type": "code",
   "execution_count": 20,
   "metadata": {},
   "outputs": [
    {
     "name": "stdout",
     "output_type": "stream",
     "text": [
      "<class 'tuple'>\n",
      "1\n",
      "(-0.5,)\n"
     ]
    }
   ],
   "source": [
    "result = quadratic_equation(4, 4, 1)\n",
    "print(type(result))\n",
    "print(len(result))\n",
    "print(result)"
   ]
  },
  {
   "cell_type": "code",
   "execution_count": 21,
   "metadata": {},
   "outputs": [
    {
     "name": "stdout",
     "output_type": "stream",
     "text": [
      "(1, 5)\n",
      "<class 'tuple'>\n",
      "(2, 6)\n",
      "<class 'tuple'>\n",
      "(3, 7)\n",
      "<class 'tuple'>\n"
     ]
    }
   ],
   "source": [
    "x_data = [1, 2, 3]\n",
    "y_data = [5, 6, 7]\n",
    "\n",
    "data = zip(x_data, y_data)\n",
    "\n",
    "for d in data:\n",
    "    print(d)\n",
    "    print(type(d))"
   ]
  },
  {
   "cell_type": "code",
   "execution_count": 23,
   "metadata": {},
   "outputs": [
    {
     "name": "stdout",
     "output_type": "stream",
     "text": [
      "120\n",
      "80\n"
     ]
    }
   ],
   "source": [
    "#memory comparision\n",
    "import sys\n",
    "aList = [3, 4, 5, 6, 7]\n",
    "aTuple = (3, 4, 5, 6, 7)\n",
    "\n",
    "print(sys.getsizeof(aList))\n",
    "print(sys.getsizeof(aTuple))"
   ]
  },
  {
   "cell_type": "code",
   "execution_count": 26,
   "metadata": {},
   "outputs": [
    {
     "name": "stdout",
     "output_type": "stream",
     "text": [
      "{('a', 1), ('b', 2), ('c', 3)}\n",
      "<class 'set'>\n"
     ]
    }
   ],
   "source": [
    "keys = ['a', 'b', 'c']\n",
    "values = [1, 2, 3]\n",
    "\n",
    "dicts = {(k, v) for k,v in zip(keys, values)}\n",
    "print(dicts)\n",
    "print(type(dicts))"
   ]
  },
  {
   "cell_type": "code",
   "execution_count": 27,
   "metadata": {},
   "outputs": [
    {
     "name": "stdout",
     "output_type": "stream",
     "text": [
      "{'learning_rate': 0.1, 'optimizer': 'Adam', 'metric': 'Accuracy'}\n",
      "<class 'dict'>\n"
     ]
    }
   ],
   "source": [
    "parameters = {'learning_rate':0.1,\n",
    "              'optimizer': 'Adam',\n",
    "              'metric':'Accuracy'}\n",
    "\n",
    "print(parameters)\n",
    "print(type(parameters))"
   ]
  },
  {
   "cell_type": "code",
   "execution_count": 30,
   "metadata": {},
   "outputs": [
    {
     "name": "stdout",
     "output_type": "stream",
     "text": [
      "dict_keys(['learning_rate', 'optimizer', 'metric'])\n",
      "dict_values([0.1, 'Adam', 'Accuracy'])\n"
     ]
    }
   ],
   "source": [
    "keys = parameters.keys()\n",
    "print(keys)\n",
    "values = parameters.values()\n",
    "print(values)"
   ]
  },
  {
   "cell_type": "code",
   "execution_count": 32,
   "metadata": {},
   "outputs": [
    {
     "name": "stdout",
     "output_type": "stream",
     "text": [
      "[1, 3, 4, 5, 7]\n"
     ]
    }
   ],
   "source": [
    "aList = [1, 5, 3, 7, 4]\n",
    "\n",
    "def compare(item):\n",
    "    return item\n",
    "\n",
    "sortedList = sorted(aList, key=compare)\n",
    "print(sortedList)"
   ]
  },
  {
   "cell_type": "code",
   "execution_count": 33,
   "metadata": {},
   "outputs": [
    {
     "name": "stdout",
     "output_type": "stream",
     "text": [
      "[('a', 16), ('g', 12), ('e', 18), ('h', 11), ('b', 15)]\n",
      "[('a', 16), ('b', 15), ('e', 18), ('g', 12), ('h', 11)]\n"
     ]
    }
   ],
   "source": [
    "list1 = ['a', 'g', 'e', 'h', 'b']\n",
    "list2 = [16, 12, 18, 11, 15]\n",
    "\n",
    "def compare(item):\n",
    "    return item[0]\n",
    "\n",
    "list3 = list(zip(list1, list2))\n",
    "list4 =sorted(list3, key=compare)\n",
    "print(list3)\n",
    "print(list4)"
   ]
  },
  {
   "cell_type": "code",
   "execution_count": null,
   "metadata": {},
   "outputs": [],
   "source": []
  }
 ],
 "metadata": {
  "kernelspec": {
   "display_name": "base",
   "language": "python",
   "name": "python3"
  },
  "language_info": {
   "codemirror_mode": {
    "name": "ipython",
    "version": 3
   },
   "file_extension": ".py",
   "mimetype": "text/x-python",
   "name": "python",
   "nbconvert_exporter": "python",
   "pygments_lexer": "ipython3",
   "version": "3.9.12"
  }
 },
 "nbformat": 4,
 "nbformat_minor": 2
}
