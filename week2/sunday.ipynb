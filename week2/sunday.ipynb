{
 "cells": [
  {
   "cell_type": "markdown",
   "metadata": {},
   "source": [
    "1. **Cho một số list các số nguyên num_list và môt sliding window có kích thước size k di chuyển từ trái sang phải. Một lần dịch chuyển 1 vị trí sang phải có thể nhín thấy được k số trong num_list và tìm số lớn nhất trong k số này sau mỗi lần trượt k phải lớn hơn hoặc bằng 1**"
   ]
  },
  {
   "cell_type": "code",
   "execution_count": 13,
   "metadata": {},
   "outputs": [],
   "source": [
    "def max_in_window(num_list, k=3):\n",
    "    lst = []\n",
    "    area = len(num_list) - k\n",
    "    for i in range(area):\n",
    "        num = max(num_list[i:i+k])\n",
    "        lst.append(num)\n",
    "    return lst"
   ]
  },
  {
   "cell_type": "code",
   "execution_count": 15,
   "metadata": {},
   "outputs": [
    {
     "data": {
      "text/plain": [
       "[5, 5, 5, 10, 12, 33]"
      ]
     },
     "execution_count": 15,
     "metadata": {},
     "output_type": "execute_result"
    }
   ],
   "source": [
    "num_list = [3, 4, 5, 1, -44 , 5 ,10, 12 ,33, 1]\n",
    "max_in_window(num_list, 4)"
   ]
  },
  {
   "cell_type": "markdown",
   "metadata": {},
   "source": [
    "2. **Cho hai list các số nguyên là num_list1 và num_list2, trả về các list các số cũng xuất hiện trong hai lst, thứ tự không quan trong**"
   ]
  },
  {
   "cell_type": "code",
   "execution_count": 1,
   "metadata": {},
   "outputs": [],
   "source": [
    "def find_ele_dupli(nums1, nums2):\n",
    "    lst_dupli = []\n",
    "    for element in nums1:\n",
    "        if element in nums2 and element not in lst_dupli:\n",
    "            lst_dupli.append(element)\n",
    "    return lst_dupli"
   ]
  },
  {
   "cell_type": "code",
   "execution_count": 2,
   "metadata": {},
   "outputs": [
    {
     "data": {
      "text/plain": [
       "[2]"
      ]
     },
     "execution_count": 2,
     "metadata": {},
     "output_type": "execute_result"
    }
   ],
   "source": [
    "nums1 = [1, 2, 2, 1]\n",
    "nums2 = [2, 2]\n",
    "\n",
    "find_ele_dupli(nums1, nums2)"
   ]
  },
  {
   "cell_type": "code",
   "execution_count": 4,
   "metadata": {},
   "outputs": [
    {
     "data": {
      "text/plain": [
       "[9, 4]"
      ]
     },
     "execution_count": 4,
     "metadata": {},
     "output_type": "execute_result"
    }
   ],
   "source": [
    "nums1 = [4, 9, 5]\n",
    "nums2 = [9, 4, 9, 8, 4]\n",
    "\n",
    "find_ele_dupli(nums2, nums1)"
   ]
  },
  {
   "cell_type": "markdown",
   "metadata": {},
   "source": [
    "**Câu 3:**"
   ]
  },
  {
   "cell_type": "code",
   "execution_count": 5,
   "metadata": {},
   "outputs": [
    {
     "data": {
      "text/plain": [
       "{'H': 1, 'a': 1, 'p': 2, 'i': 1, 'n': 1, 'e': 1, 's': 2}"
      ]
     },
     "execution_count": 5,
     "metadata": {},
     "output_type": "execute_result"
    }
   ],
   "source": [
    "def count_chars(inp_str):\n",
    "    my_dict = dict()\n",
    "    for st in inp_str:\n",
    "        if st in my_dict.keys():\n",
    "            my_dict[st] += 1\n",
    "        else:\n",
    "            my_dict[st] = 1\n",
    "    return my_dict\n",
    "\n",
    "test_string = \"Happiness\"\n",
    "count_chars(test_string)"
   ]
  },
  {
   "cell_type": "code",
   "execution_count": 6,
   "metadata": {},
   "outputs": [
    {
     "data": {
      "text/plain": [
       "{'s': 2, 'm': 1, 'i': 1, 'l': 1, 'e': 1}"
      ]
     },
     "execution_count": 6,
     "metadata": {},
     "output_type": "execute_result"
    }
   ],
   "source": [
    "string = 'smiles'\n",
    "count_chars(string)"
   ]
  },
  {
   "cell_type": "markdown",
   "metadata": {},
   "source": [
    "<b>Câu 4</b>"
   ]
  },
  {
   "cell_type": "code",
   "execution_count": 8,
   "metadata": {},
   "outputs": [
    {
     "name": "stdout",
     "output_type": "stream",
     "text": [
      "He who conquers himself is the mightiest warrior\n",
      "Try not to become a man of success but rather become a man of value\n",
      "One man with courage makes a majority\n",
      "One secret of success in life is for a man to be ready for his opportunity when it comes\n",
      "The successful man will profit from his mistakes and try again in a different way\n",
      "A successful man is one who can lay a firm foundation with the bricks others have thrown at him\n",
      "Success usually comes to those who are too busy looking for it\n",
      "We cannot solve problems with the kind of thinking we employed when we came up with them\n",
      "Just one small positive thought in the morning can change your whole day\n",
      "You can get everything in life you want if you will just help enough other people get what they want\n"
     ]
    }
   ],
   "source": [
    "file_path = 'P1_data.txt'\n",
    "\n",
    "with open(file_path, 'r') as f:\n",
    "    lst_str = f.read()\n",
    "print(lst_str)"
   ]
  },
  {
   "cell_type": "code",
   "execution_count": 14,
   "metadata": {},
   "outputs": [],
   "source": [
    "def word_count(file_path):\n",
    "    my_dict = dict()\n",
    "    with open(file_path) as f:\n",
    "        lst_str = f.read()\n",
    "    \n",
    "    for s in lst_str.split():\n",
    "        if s in my_dict.keys():\n",
    "            my_dict[s] += 1\n",
    "        else:\n",
    "            my_dict[s] = 1\n",
    "    \n",
    "    return my_dict"
   ]
  },
  {
   "cell_type": "code",
   "execution_count": 21,
   "metadata": {},
   "outputs": [
    {
     "data": {
      "text/plain": [
       "[('a', 6),\n",
       " ('man', 6),\n",
       " ('the', 4),\n",
       " ('of', 4),\n",
       " ('with', 4),\n",
       " ('in', 4),\n",
       " ('who', 3),\n",
       " ('is', 3),\n",
       " ('to', 3),\n",
       " ('for', 3),\n",
       " ('can', 3),\n",
       " ('become', 2),\n",
       " ('success', 2),\n",
       " ('One', 2),\n",
       " ('life', 2),\n",
       " ('his', 2),\n",
       " ('when', 2),\n",
       " ('it', 2),\n",
       " ('comes', 2),\n",
       " ('successful', 2),\n",
       " ('will', 2),\n",
       " ('one', 2),\n",
       " ('we', 2),\n",
       " ('get', 2),\n",
       " ('you', 2),\n",
       " ('want', 2),\n",
       " ('He', 1),\n",
       " ('conquers', 1),\n",
       " ('himself', 1),\n",
       " ('mightiest', 1),\n",
       " ('warrior', 1),\n",
       " ('Try', 1),\n",
       " ('not', 1),\n",
       " ('but', 1),\n",
       " ('rather', 1),\n",
       " ('value', 1),\n",
       " ('courage', 1),\n",
       " ('makes', 1),\n",
       " ('majority', 1),\n",
       " ('secret', 1),\n",
       " ('be', 1),\n",
       " ('ready', 1),\n",
       " ('opportunity', 1),\n",
       " ('The', 1),\n",
       " ('profit', 1),\n",
       " ('from', 1),\n",
       " ('mistakes', 1),\n",
       " ('and', 1),\n",
       " ('try', 1),\n",
       " ('again', 1),\n",
       " ('different', 1),\n",
       " ('way', 1),\n",
       " ('A', 1),\n",
       " ('lay', 1),\n",
       " ('firm', 1),\n",
       " ('foundation', 1),\n",
       " ('bricks', 1),\n",
       " ('others', 1),\n",
       " ('have', 1),\n",
       " ('thrown', 1),\n",
       " ('at', 1),\n",
       " ('him', 1),\n",
       " ('Success', 1),\n",
       " ('usually', 1),\n",
       " ('those', 1),\n",
       " ('are', 1),\n",
       " ('too', 1),\n",
       " ('busy', 1),\n",
       " ('looking', 1),\n",
       " ('We', 1),\n",
       " ('cannot', 1),\n",
       " ('solve', 1),\n",
       " ('problems', 1),\n",
       " ('kind', 1),\n",
       " ('thinking', 1),\n",
       " ('employed', 1),\n",
       " ('came', 1),\n",
       " ('up', 1),\n",
       " ('them', 1),\n",
       " ('Just', 1),\n",
       " ('small', 1),\n",
       " ('positive', 1),\n",
       " ('thought', 1),\n",
       " ('morning', 1),\n",
       " ('change', 1),\n",
       " ('your', 1),\n",
       " ('whole', 1),\n",
       " ('day', 1),\n",
       " ('You', 1),\n",
       " ('everything', 1),\n",
       " ('if', 1),\n",
       " ('just', 1),\n",
       " ('help', 1),\n",
       " ('enough', 1),\n",
       " ('other', 1),\n",
       " ('people', 1),\n",
       " ('what', 1),\n",
       " ('they', 1)]"
      ]
     },
     "execution_count": 21,
     "metadata": {},
     "output_type": "execute_result"
    }
   ],
   "source": [
    "my_dict = word_count(file_path)\n",
    "sorted(my_dict.items(), key=lambda item: item[1], reverse=True)"
   ]
  },
  {
   "cell_type": "code",
   "execution_count": null,
   "metadata": {},
   "outputs": [],
   "source": []
  }
 ],
 "metadata": {
  "kernelspec": {
   "display_name": "base",
   "language": "python",
   "name": "python3"
  },
  "language_info": {
   "codemirror_mode": {
    "name": "ipython",
    "version": 3
   },
   "file_extension": ".py",
   "mimetype": "text/x-python",
   "name": "python",
   "nbconvert_exporter": "python",
   "pygments_lexer": "ipython3",
   "version": "3.9.12"
  }
 },
 "nbformat": 4,
 "nbformat_minor": 2
}
